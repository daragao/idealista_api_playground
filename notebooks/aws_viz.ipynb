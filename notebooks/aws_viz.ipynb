{
 "cells": [
  {
   "cell_type": "code",
   "execution_count": 1,
   "metadata": {},
   "outputs": [],
   "source": [
    "import boto3\n",
    "import pandas as pd\n",
    "\n",
    "import plotly.graph_objects as go\n",
    "import plotly.express as px\n",
    "import plotly.io as pio"
   ]
  },
  {
   "cell_type": "code",
   "execution_count": 2,
   "metadata": {},
   "outputs": [
    {
     "ename": "ModuleNotFoundError",
     "evalue": "No module named 'scrapper'",
     "output_type": "error",
     "traceback": [
      "\u001b[0;31m---------------------------------------------------------------------------\u001b[0m",
      "\u001b[0;31mModuleNotFoundError\u001b[0m                       Traceback (most recent call last)",
      "\u001b[0;32m<ipython-input-2-929f145728f1>\u001b[0m in \u001b[0;36m<module>\u001b[0;34m\u001b[0m\n\u001b[1;32m      3\u001b[0m \u001b[0msys\u001b[0m\u001b[0;34m.\u001b[0m\u001b[0mpath\u001b[0m\u001b[0;34m.\u001b[0m\u001b[0minsert\u001b[0m\u001b[0;34m(\u001b[0m\u001b[0;36m1\u001b[0m\u001b[0;34m,\u001b[0m \u001b[0;34m'lambda/scrap_idealista'\u001b[0m\u001b[0;34m)\u001b[0m\u001b[0;34m\u001b[0m\u001b[0;34m\u001b[0m\u001b[0m\n\u001b[1;32m      4\u001b[0m \u001b[0;34m\u001b[0m\u001b[0m\n\u001b[0;32m----> 5\u001b[0;31m \u001b[0;32mimport\u001b[0m \u001b[0mscrapper\u001b[0m\u001b[0;34m\u001b[0m\u001b[0;34m\u001b[0m\u001b[0m\n\u001b[0m\u001b[1;32m      6\u001b[0m \u001b[0;34m\u001b[0m\u001b[0m\n\u001b[1;32m      7\u001b[0m \u001b[0mitems\u001b[0m \u001b[0;34m=\u001b[0m \u001b[0mscrapper\u001b[0m\u001b[0;34m.\u001b[0m\u001b[0mscrap\u001b[0m\u001b[0;34m(\u001b[0m\u001b[0;34m)\u001b[0m\u001b[0;34m\u001b[0m\u001b[0;34m\u001b[0m\u001b[0m\n",
      "\u001b[0;31mModuleNotFoundError\u001b[0m: No module named 'scrapper'"
     ]
    }
   ],
   "source": [
    "import sys\n",
    "# insert at 1, 0 is the script path (or '' in REPL)\n",
    "sys.path.insert(1, 'lambda/scrap_idealista')\n",
    "\n",
    "import scrapper\n",
    "\n",
    "items = scrapper.scrap()"
   ]
  },
  {
   "cell_type": "code",
   "execution_count": null,
   "metadata": {},
   "outputs": [],
   "source": [
    "def add_updated_columns(items):\n",
    "    dynamodb = boto3.resource('dynamodb')\n",
    "    table = dynamodb.Table('scrapped_ads')\n",
    "\n",
    "    response = table.scan(\n",
    "        AttributesToGet=['id','price', 'created','price_update','date_update'],\n",
    "        ScanFilter={'id': {'AttributeValueList': [it['id'] for it in items],'ComparisonOperator': 'IN'}}\n",
    "    )\n",
    "    scanned_items = response['Items']\n",
    "\n",
    "    scanned_items[0]['price'] -= 5\n",
    "    scanned_items[20]['price'] -= 5\n",
    "    #array to hash to be faster to look\n",
    "    old_items_map = { }\n",
    "    for it in scanned_items:\n",
    "        if 'price_update' not in it['id']:\n",
    "            it['price_update'] = [it['price']]\n",
    "        if 'date_update' not in it['id']:\n",
    "            it['date_update'] = [it['created']]\n",
    "        old_items_map[it['id']] = it\n",
    "\n",
    "    # rows with new price get and updated array\n",
    "    for it in items:\n",
    "        if it['id'] in old_items_map and it['price'] != old_items_map[it['id']]['price']:\n",
    "            old_items_map[it['id']]['price_update'].append(it['price'])\n",
    "            old_items_map[it['id']]['date_update'].append(it['created'])\n",
    "            it['price_update'] = old_items_map[it['id']]['price_update']\n",
    "            it['date_update'] = old_items_map[it['id']]['date_update']\n",
    "            print('Price update!\\n\\t{}\\n\\t{}'.format(it, old_items_map[it['id']]))\n",
    "add_updated_columns(items)"
   ]
  },
  {
   "cell_type": "code",
   "execution_count": null,
   "metadata": {},
   "outputs": [],
   "source": [
    "dynamodb = boto3.resource('dynamodb')\n",
    "table = dynamodb.Table('scrapped_ads')\n"
   ]
  },
  {
   "cell_type": "code",
   "execution_count": null,
   "metadata": {},
   "outputs": [],
   "source": [
    "response = table.scan()\n",
    "response"
   ]
  },
  {
   "cell_type": "code",
   "execution_count": null,
   "metadata": {},
   "outputs": [],
   "source": [
    "len(response['Items'])\n",
    "\n",
    "# filter ads with no geo\n",
    "ad_with_geo = list(filter(lambda x: (('geo' in x) and (len(x['geo']) > 0)), response['Items']))\n",
    "\n",
    "print('Items scanned:{:>5}\\nItems with geo:{:>4}'.format(len(response['Items']), len(ad_with_geo)))"
   ]
  },
  {
   "cell_type": "code",
   "execution_count": null,
   "metadata": {},
   "outputs": [],
   "source": [
    "ad_with_geo[0]['geo'][0]\n",
    "\n",
    "for ad in ad_with_geo:\n",
    "    geo = ad['geo'][0]\n",
    "    ad['latitude'] = geo['latitude']\n",
    "    ad['longitude'] = geo['longitude']\n",
    "    ad['locality'] = geo['locality']\n",
    "    ad['neighbourhood'] = geo['neighbourhood']\n",
    "    ad['geo_name'] = geo['name']"
   ]
  },
  {
   "cell_type": "code",
   "execution_count": null,
   "metadata": {
    "scrolled": true
   },
   "outputs": [],
   "source": [
    "df = pd.DataFrame.from_dict(ad_with_geo)\n",
    "df.describe()"
   ]
  },
  {
   "cell_type": "code",
   "execution_count": null,
   "metadata": {},
   "outputs": [],
   "source": [
    "df_group_locality = df[df.locality.notnull()].groupby('locality')\n",
    "\n",
    "data = []\n",
    "for name, group in df_group_locality:\n",
    "    subplot_id = \"mapbox\" + name\n",
    "    trace = go.Scattermapbox(\n",
    "        name=name,\n",
    "        showlegend=True,\n",
    "        lat=df[df.locality == name].latitude,\n",
    "        lon=df[df.locality == name].longitude,\n",
    "        mode=\"markers\",\n",
    "        marker=dict(size=14),\n",
    "        text=name,\n",
    "        subplot=\"mapbox\",\n",
    "    )\n",
    "    # fig.add_trace(trace)\n",
    "    data.append(trace)\n"
   ]
  },
  {
   "cell_type": "code",
   "execution_count": null,
   "metadata": {},
   "outputs": [],
   "source": [
    "# ---------------------------\n",
    "# Plot Color ad per municipality\n",
    "# ---------------------------\n",
    "\n",
    "layout = go.Layout(\n",
    "    autosize=True,\n",
    "    height=700,\n",
    "    title=\"Color ad by area\",\n",
    "    # grid={\"rows\": rows, \"columns\": cols, \"xgap\": 0.1, \"ygap\": 0.2},\n",
    ")\n",
    "\n",
    "\n",
    "map_center = go.layout.mapbox.Center(\n",
    "    lat=df[\"latitude\"].mean(), lon=df[\"longitude\"].mean()\n",
    ")\n",
    "layout[\"mapbox\"] = dict(style=\"carto-positron\", center=map_center, zoom=11,)\n",
    "\n",
    "fig = go.Figure(data=data, layout=layout)\n",
    "fig"
   ]
  },
  {
   "cell_type": "code",
   "execution_count": null,
   "metadata": {},
   "outputs": [],
   "source": [
    "import urllib\n",
    "#df.address = df.address.apply(urllib.parse.unquote)\n",
    "#df[df.address.str.contains('Flat|flat')][['address','geo']]\n",
    "df.head()"
   ]
  }
 ],
 "metadata": {
  "kernelspec": {
   "display_name": "Python 3",
   "language": "python",
   "name": "python3"
  },
  "language_info": {
   "codemirror_mode": {
    "name": "ipython",
    "version": 3
   },
   "file_extension": ".py",
   "mimetype": "text/x-python",
   "name": "python",
   "nbconvert_exporter": "python",
   "pygments_lexer": "ipython3",
   "version": "3.7.7"
  }
 },
 "nbformat": 4,
 "nbformat_minor": 4
}
