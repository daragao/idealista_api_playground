{
 "cells": [
  {
   "cell_type": "code",
   "execution_count": 30,
   "metadata": {},
   "outputs": [],
   "source": [
    "import boto3\n",
    "import pandas as pd\n",
    "\n",
    "import plotly.graph_objects as go\n",
    "import plotly.express as px\n",
    "import plotly.io as pio\n",
    "import urllib"
   ]
  },
  {
   "cell_type": "code",
   "execution_count": 8,
   "metadata": {},
   "outputs": [],
   "source": [
    "dynamodb = boto3.resource('dynamodb')\n",
    "idealista_scrap_table = dynamodb.Table('scrapped_ads')\n",
    "imovirtual_scrap_table = dynamodb.Table('imovirtual_scrap')\n",
    "idealista_scrap_rows = idealista_scrap_table.scan()\n",
    "imovirtual_scrap_rows = imovirtual_scrap_table.scan()"
   ]
  },
  {
   "cell_type": "code",
   "execution_count": 12,
   "metadata": {},
   "outputs": [],
   "source": [
    "df_idealista = pd.DataFrame(idealista_scrap_rows['Items'])\n",
    "df_imovirtual = pd.DataFrame(imovirtual_scrap_rows['Items'])"
   ]
  },
  {
   "cell_type": "code",
   "execution_count": 127,
   "metadata": {},
   "outputs": [
    {
     "name": "stdout",
     "output_type": "stream",
     "text": [
      "Address                                 Idealista      Imovirtual\n",
      "Ajuda, Lisboa                           8              4\n",
      "Alcântara, Lisboa                       11             5\n",
      "Alvalade, Lisboa                        12             6\n",
      "Areeiro, Lisboa                         -              6\n",
      "Arroios, Lisboa                         -              10\n",
      "Avenidas Novas, Lisboa                  -              48\n",
      "Beato, Lisboa                           1              1\n",
      "Belém, Lisboa                           -              5\n",
      "Benfica, Lisboa                         3              1\n",
      "Campo de Ourique, Lisboa                21             8\n",
      "Campolide, Lisboa                       -              2\n",
      "Carnide, Lisboa                         32             2\n",
      "Estrela, Lisboa                         -              17\n",
      "Lumiar, Lisboa                          40             11\n",
      "Marvila, Lisboa                         1              2\n",
      "Misericórdia, Lisboa                    -              3\n",
      "Parque das Nações, Lisboa               -              9\n",
      "Penha de França, Lisboa                 -              11\n",
      "Santa Clara, Lisboa                     -              4\n",
      "Santa Maria Maior, Lisboa               -              7\n",
      "Santo António, Lisboa                   -              24\n",
      "São Domingos de Benfica, Lisboa         -              7\n",
      "São Vicente, Lisboa                     -              2\n",
      "Alto da Serafina, Lisboa                1              -\n",
      "Alto do Pina, Lisboa                    12             -\n",
      "Arco Cego, Lisboa                       5              -\n",
      "Bairro Alto, Lisboa                     1              -\n",
      "Bairro Lopes, Lisboa                    2              -\n",
      "Bairro das Furnas, Lisboa               2              -\n",
      "Baixa, Lisboa                           6              -\n",
      "Boavista, Lisboa                        2              -\n",
      "Campo Pequeno, Lisbon, Portugal, Lisboa 14             -\n",
      "Caramão, Lisboa                         2              -\n",
      "Castelo, Lisboa                         15             -\n",
      "Chelas, Lisboa                          1              -\n",
      "Chiado, Lisboa                          6              -\n",
      "Cidade Universitaria, Lisboa            1              -\n",
      "Entrecampos, Lisboa                     1              -\n",
      "Estefania, Lisboa                       12             -\n",
      "Furnas, Lisboa                          19             -\n",
      "Luz, Lisboa                             2              -\n",
      "Madragoa, Lisboa                        3              -\n",
      "Madre de Deus, Lisboa                   9              -\n",
      "Mouraria, Lisboa                        1              -\n",
      "None, Lisboa                            130            -\n",
      "Olaias, Lisboa                          1              -\n",
      "Olivais Sul, Lisboa                     10             -\n",
      "Pedrouços, Lisboa                       4              -\n",
      "Quinta do Lambert, Lisboa               3              -\n",
      "Rato, Lisboa                            16             -\n",
      "Rego, Lisboa                            1              -\n",
      "Saldanha, Lisboa                        2              -\n",
      "Santa Apolonia, Lisboa                  6              -\n",
      "Torres Amoreiras, Lisboa                2              -\n"
     ]
    }
   ],
   "source": [
    "col_name = 'price'\n",
    "func_name = 'count'\n",
    "\n",
    "address_dict = {}\n",
    "address_simple = []\n",
    "for r in df_idealista['geo']:\n",
    "    key = None\n",
    "    if r == r and len(r) > 0 and len(r[-1]) > 0:\n",
    "        key = '{}, {}'.format(r[-1]['neighbourhood'],r[-1]['region'])\n",
    "    address_simple.append(key)\n",
    "\n",
    "\n",
    "for name, group in df_imovirtual.groupby('address'):\n",
    "    address_dict[name] = { 'imovirtual': getattr(group[col_name], func_name)(), 'idealista': None }\n",
    "        \n",
    "df_idealista['address_simple'] = address_simple\n",
    "        \n",
    "for name, group in df_idealista.groupby('address_simple'):\n",
    "    if name in address_dict:\n",
    "        address_dict[name]['idealista'] =  getattr(group[col_name], func_name)()\n",
    "    else:\n",
    "        address_dict[name] = { 'idealista': getattr(group[col_name], func_name)(), 'imovirtual': None }\n",
    "        \n",
    "print('{:<40}{:<15}{}'.format('Address','Idealista','Imovirtual'))\n",
    "for k, v in address_dict.items():\n",
    "    print('{:<40}{:<15}{}'.format(k,v['idealista'] or '-',v['imovirtual'] or '-'))"
   ]
  },
  {
   "cell_type": "code",
   "execution_count": 135,
   "metadata": {},
   "outputs": [
    {
     "data": {
      "application/vnd.plotly.v1+json": {
       "config": {
        "plotlyServerURL": "https://plot.ly"
       },
       "data": [
        {
         "lat": [
          38.714579,
          38.714579,
          38.714579,
          38.714579,
          38.714579,
          38.714579,
          38.714579,
          38.714579
         ],
         "lon": [
          -9.204513,
          -9.204513,
          -9.204513,
          -9.204513,
          -9.204513,
          -9.204513,
          -9.204513,
          -9.204513
         ],
         "marker": {
          "size": 14
         },
         "mode": "markers",
         "name": "Ajuda, Lisboa",
         "showlegend": true,
         "subplot": "mapbox",
         "text": "Ajuda, Lisboa",
         "type": "scattermapbox"
        },
        {
         "lat": [
          38.705566,
          38.702957,
          38.702957,
          38.702957,
          38.702957,
          38.702957,
          38.702957,
          38.702957,
          38.702957,
          38.702957,
          38.702957
         ],
         "lon": [
          -9.18135,
          -9.173346,
          -9.173346,
          -9.173346,
          -9.173346,
          -9.173346,
          -9.173346,
          -9.173346,
          -9.173346,
          -9.173346,
          -9.173346
         ],
         "marker": {
          "size": 14
         },
         "mode": "markers",
         "name": "Alcântara, Lisboa",
         "showlegend": true,
         "subplot": "mapbox",
         "text": "Alcântara, Lisboa",
         "type": "scattermapbox"
        },
        {
         "lat": [
          38.728016
         ],
         "lon": [
          -9.170332
         ],
         "marker": {
          "size": 14
         },
         "mode": "markers",
         "name": "Alto da Serafina, Lisboa",
         "showlegend": true,
         "subplot": "mapbox",
         "text": "Alto da Serafina, Lisboa",
         "type": "scattermapbox"
        },
        {
         "lat": [
          38.731798,
          38.742127,
          38.73891,
          38.73891,
          38.73891,
          38.73891,
          38.73891,
          38.742127,
          38.73891,
          38.731798,
          38.742127,
          38.733649
         ],
         "lon": [
          -9.129194,
          -9.132732,
          -9.13385,
          -9.13385,
          -9.13385,
          -9.13385,
          -9.13385,
          -9.132732,
          -9.13385,
          -9.129194,
          -9.132732,
          -9.134676
         ],
         "marker": {
          "size": 14
         },
         "mode": "markers",
         "name": "Alto do Pina, Lisboa",
         "showlegend": true,
         "subplot": "mapbox",
         "text": "Alto do Pina, Lisboa",
         "type": "scattermapbox"
        },
        {
         "lat": [
          38.755499,
          38.755499,
          38.755331,
          38.755499,
          38.755499,
          38.755499,
          38.755499,
          38.755499,
          38.755499,
          38.755499,
          38.755499,
          38.758343
         ],
         "lon": [
          -9.14017,
          -9.14017,
          -9.131108,
          -9.14017,
          -9.14017,
          -9.14017,
          -9.14017,
          -9.14017,
          -9.14017,
          -9.14017,
          -9.14017,
          -9.140653
         ],
         "marker": {
          "size": 14
         },
         "mode": "markers",
         "name": "Alvalade, Lisboa",
         "showlegend": true,
         "subplot": "mapbox",
         "text": "Alvalade, Lisboa",
         "type": "scattermapbox"
        },
        {
         "lat": [
          38.734936,
          38.736747,
          38.738241,
          38.734936,
          38.736119
         ],
         "lon": [
          -9.139881,
          -9.136328,
          -9.13892,
          -9.139881,
          -9.14645
         ],
         "marker": {
          "size": 14
         },
         "mode": "markers",
         "name": "Arco Cego, Lisboa",
         "showlegend": true,
         "subplot": "mapbox",
         "text": "Arco Cego, Lisboa",
         "type": "scattermapbox"
        },
        {
         "lat": [
          38.706814
         ],
         "lon": [
          -9.147749
         ],
         "marker": {
          "size": 14
         },
         "mode": "markers",
         "name": "Bairro Alto, Lisboa",
         "showlegend": true,
         "subplot": "mapbox",
         "text": "Bairro Alto, Lisboa",
         "type": "scattermapbox"
        },
        {
         "lat": [
          38.725725,
          38.727866
         ],
         "lon": [
          -9.129122,
          -9.125702
         ],
         "marker": {
          "size": 14
         },
         "mode": "markers",
         "name": "Bairro Lopes, Lisboa",
         "showlegend": true,
         "subplot": "mapbox",
         "text": "Bairro Lopes, Lisboa",
         "type": "scattermapbox"
        },
        {
         "lat": [
          38.742536,
          38.741289
         ],
         "lon": [
          -9.172646,
          -9.174548
         ],
         "marker": {
          "size": 14
         },
         "mode": "markers",
         "name": "Bairro das Furnas, Lisboa",
         "showlegend": true,
         "subplot": "mapbox",
         "text": "Bairro das Furnas, Lisboa",
         "type": "scattermapbox"
        },
        {
         "lat": [
          38.716184,
          38.716184,
          38.717659,
          38.716184,
          38.716184,
          38.717659
         ],
         "lon": [
          -9.136845,
          -9.136845,
          -9.141661,
          -9.136845,
          -9.136845,
          -9.141661
         ],
         "marker": {
          "size": 14
         },
         "mode": "markers",
         "name": "Baixa, Lisboa",
         "showlegend": true,
         "subplot": "mapbox",
         "text": "Baixa, Lisboa",
         "type": "scattermapbox"
        },
        {
         "lat": [
          38.733372
         ],
         "lon": [
          -9.105885
         ],
         "marker": {
          "size": 14
         },
         "mode": "markers",
         "name": "Beato, Lisboa",
         "showlegend": true,
         "subplot": "mapbox",
         "text": "Beato, Lisboa",
         "type": "scattermapbox"
        },
        {
         "lat": [
          38.750096,
          38.750096,
          38.750096
         ],
         "lon": [
          -9.195576,
          -9.195576,
          -9.195576
         ],
         "marker": {
          "size": 14
         },
         "mode": "markers",
         "name": "Benfica, Lisboa",
         "showlegend": true,
         "subplot": "mapbox",
         "text": "Benfica, Lisboa",
         "type": "scattermapbox"
        },
        {
         "lat": [
          38.742147,
          38.744038
         ],
         "lon": [
          -9.208716,
          -9.209015
         ],
         "marker": {
          "size": 14
         },
         "mode": "markers",
         "name": "Boavista, Lisboa",
         "showlegend": true,
         "subplot": "mapbox",
         "text": "Boavista, Lisboa",
         "type": "scattermapbox"
        },
        {
         "lat": [
          38.745512,
          38.745512,
          38.745512,
          38.745512,
          38.745512,
          38.743596,
          38.745512,
          38.748075,
          38.746756,
          38.74698,
          38.745512,
          38.745512,
          38.749639,
          38.741386
         ],
         "lon": [
          -9.136801,
          -9.136801,
          -9.136801,
          -9.136801,
          -9.136801,
          -9.136282,
          -9.136801,
          -9.141012,
          -9.143933,
          -9.137985,
          -9.136801,
          -9.136801,
          -9.140519,
          -9.145053
         ],
         "marker": {
          "size": 14
         },
         "mode": "markers",
         "name": "Campo Pequeno, Lisbon, Portugal, Lisboa",
         "showlegend": true,
         "subplot": "mapbox",
         "text": "Campo Pequeno, Lisbon, Portugal, Lisboa",
         "type": "scattermapbox"
        },
        {
         "lat": [
          38.718867,
          38.718867,
          38.718867,
          38.718867,
          38.718867,
          38.718867,
          38.718867,
          38.718867,
          38.718867,
          38.718867,
          38.71975,
          38.718867,
          38.718867,
          38.718867,
          38.718867,
          38.718867,
          38.718867,
          38.718867,
          38.718867,
          38.718867,
          38.714495
         ],
         "lon": [
          -9.166314,
          -9.166314,
          -9.166314,
          -9.166314,
          -9.166314,
          -9.166314,
          -9.166314,
          -9.166314,
          -9.166314,
          -9.166314,
          -9.169459,
          -9.166314,
          -9.166314,
          -9.166314,
          -9.166314,
          -9.166314,
          -9.166314,
          -9.166314,
          -9.166314,
          -9.166314,
          -9.169621
         ],
         "marker": {
          "size": 14
         },
         "mode": "markers",
         "name": "Campo de Ourique, Lisboa",
         "showlegend": true,
         "subplot": "mapbox",
         "text": "Campo de Ourique, Lisboa",
         "type": "scattermapbox"
        },
        {
         "lat": [
          38.704838,
          38.705261
         ],
         "lon": [
          -9.205837,
          -9.205827
         ],
         "marker": {
          "size": 14
         },
         "mode": "markers",
         "name": "Caramão, Lisboa",
         "showlegend": true,
         "subplot": "mapbox",
         "text": "Caramão, Lisboa",
         "type": "scattermapbox"
        },
        {
         "lat": [
          38.759595,
          38.750549,
          38.760758,
          38.750549,
          38.750549,
          38.750549,
          38.750549,
          38.750549,
          38.766189,
          38.750549,
          38.750549,
          38.750549,
          38.750549,
          38.753652,
          38.750549,
          38.750549,
          38.750549,
          38.750549,
          38.750994,
          38.750549,
          38.750549,
          38.763118,
          38.750549,
          38.762344,
          38.750549,
          38.750549,
          38.759595,
          38.750549,
          38.759595,
          38.750549,
          38.763785,
          38.750826
         ],
         "lon": [
          -9.171356,
          -9.170114,
          -9.173027,
          -9.170114,
          -9.170114,
          -9.170114,
          -9.170114,
          -9.170114,
          -9.178483,
          -9.170114,
          -9.170114,
          -9.170114,
          -9.170114,
          -9.172775,
          -9.170114,
          -9.170114,
          -9.170114,
          -9.170114,
          -9.173055,
          -9.170114,
          -9.170114,
          -9.170786,
          -9.170114,
          -9.173752,
          -9.170114,
          -9.170114,
          -9.171356,
          -9.170114,
          -9.171356,
          -9.170114,
          -9.174247,
          -9.17126
         ],
         "marker": {
          "size": 14
         },
         "mode": "markers",
         "name": "Carnide, Lisboa",
         "showlegend": true,
         "subplot": "mapbox",
         "text": "Carnide, Lisboa",
         "type": "scattermapbox"
        },
        {
         "lat": [
          38.711857,
          38.711857,
          38.711857,
          38.711857,
          38.709702,
          38.710952,
          38.710952,
          38.709702,
          38.710952,
          38.711857,
          38.711857,
          38.709702,
          38.710952,
          38.709902,
          38.709322
         ],
         "lon": [
          -9.132866,
          -9.132866,
          -9.132866,
          -9.132866,
          -9.130423,
          -9.133888,
          -9.133888,
          -9.130423,
          -9.133888,
          -9.132866,
          -9.132866,
          -9.130423,
          -9.133888,
          -9.134507,
          -9.13183
         ],
         "marker": {
          "size": 14
         },
         "mode": "markers",
         "name": "Castelo, Lisboa",
         "showlegend": true,
         "subplot": "mapbox",
         "text": "Castelo, Lisboa",
         "type": "scattermapbox"
        },
        {
         "lat": [
          38.747444
         ],
         "lon": [
          -9.112694
         ],
         "marker": {
          "size": 14
         },
         "mode": "markers",
         "name": "Chelas, Lisboa",
         "showlegend": true,
         "subplot": "mapbox",
         "text": "Chelas, Lisboa",
         "type": "scattermapbox"
        },
        {
         "lat": [
          38.709372,
          38.706351,
          38.709372,
          38.706298,
          38.707986,
          38.709372
         ],
         "lon": [
          -9.140087,
          -9.143013,
          -9.140087,
          -9.145145,
          -9.141353,
          -9.140087
         ],
         "marker": {
          "size": 14
         },
         "mode": "markers",
         "name": "Chiado, Lisboa",
         "showlegend": true,
         "subplot": "mapbox",
         "text": "Chiado, Lisboa",
         "type": "scattermapbox"
        },
        {
         "lat": [
          38.758063
         ],
         "lon": [
          -9.153489
         ],
         "marker": {
          "size": 14
         },
         "mode": "markers",
         "name": "Cidade Universitaria, Lisboa",
         "showlegend": true,
         "subplot": "mapbox",
         "text": "Cidade Universitaria, Lisboa",
         "type": "scattermapbox"
        },
        {
         "lat": [
          38.753028
         ],
         "lon": [
          -9.143755
         ],
         "marker": {
          "size": 14
         },
         "mode": "markers",
         "name": "Entrecampos, Lisboa",
         "showlegend": true,
         "subplot": "mapbox",
         "text": "Entrecampos, Lisboa",
         "type": "scattermapbox"
        },
        {
         "lat": [
          38.723677,
          38.723677,
          38.724881,
          38.723677,
          38.732148,
          38.72978,
          38.723677,
          38.723677,
          38.728205,
          38.723677,
          38.723677,
          38.723677
         ],
         "lon": [
          -9.135886,
          -9.135886,
          -9.147071,
          -9.135886,
          -9.139166,
          -9.140472,
          -9.135886,
          -9.135886,
          -9.131788,
          -9.135886,
          -9.135886,
          -9.135886
         ],
         "marker": {
          "size": 14
         },
         "mode": "markers",
         "name": "Estefania, Lisboa",
         "showlegend": true,
         "subplot": "mapbox",
         "text": "Estefania, Lisboa",
         "type": "scattermapbox"
        },
        {
         "lat": [
          38.750707,
          38.750707,
          38.750707,
          38.750707,
          38.750707,
          38.750707,
          38.750707,
          38.750707,
          38.750707,
          38.750707,
          38.7459,
          38.750707,
          38.750707,
          38.750707,
          38.7459,
          38.750707,
          38.750707,
          38.750707,
          38.750707
         ],
         "lon": [
          -9.179196,
          -9.179196,
          -9.179196,
          -9.179196,
          -9.179196,
          -9.179196,
          -9.179196,
          -9.179196,
          -9.179196,
          -9.179196,
          -9.185446,
          -9.179196,
          -9.179196,
          -9.179196,
          -9.185446,
          -9.179196,
          -9.179196,
          -9.179196,
          -9.179196
         ],
         "marker": {
          "size": 14
         },
         "mode": "markers",
         "name": "Furnas, Lisboa",
         "showlegend": true,
         "subplot": "mapbox",
         "text": "Furnas, Lisboa",
         "type": "scattermapbox"
        },
        {
         "lat": [
          38.780042,
          38.787904,
          38.769851,
          38.773593,
          38.773593,
          38.782785,
          38.769851,
          38.769851,
          38.796866,
          38.780042,
          38.814467,
          38.780042,
          38.773593,
          38.774029,
          38.780042,
          38.769851,
          38.770773,
          38.780042,
          38.772383,
          38.780042,
          38.769851,
          38.786961,
          38.769851,
          38.771287,
          38.769851,
          38.782486,
          38.795051,
          38.769851,
          38.786503,
          38.780042,
          38.814467,
          38.780042,
          38.780042,
          38.773593,
          38.773593,
          38.814467,
          38.780042,
          38.780042,
          38.776952,
          38.780042
         ],
         "lon": [
          -9.164268,
          -9.183872,
          -9.162275,
          -9.157539,
          -9.157539,
          -9.148809,
          -9.162275,
          -9.162275,
          -9.176455,
          -9.164268,
          -9.156119,
          -9.164268,
          -9.157539,
          -9.15307,
          -9.164268,
          -9.162275,
          -9.162519,
          -9.164268,
          -9.172163,
          -9.164268,
          -9.162275,
          -9.176059,
          -9.162275,
          -9.15497,
          -9.162275,
          -9.156751,
          -9.146891,
          -9.162275,
          -9.185389,
          -9.164268,
          -9.156119,
          -9.164268,
          -9.164268,
          -9.157539,
          -9.157539,
          -9.156119,
          -9.164268,
          -9.164268,
          -9.151017,
          -9.164268
         ],
         "marker": {
          "size": 14
         },
         "mode": "markers",
         "name": "Lumiar, Lisboa",
         "showlegend": true,
         "subplot": "mapbox",
         "text": "Lumiar, Lisboa",
         "type": "scattermapbox"
        },
        {
         "lat": [
          38.759495,
          38.750061
         ],
         "lon": [
          -9.192658,
          -9.187153
         ],
         "marker": {
          "size": 14
         },
         "mode": "markers",
         "name": "Luz, Lisboa",
         "showlegend": true,
         "subplot": "mapbox",
         "text": "Luz, Lisboa",
         "type": "scattermapbox"
        },
        {
         "lat": [
          38.704866,
          38.707125,
          38.707125
         ],
         "lon": [
          -9.164164,
          -9.157187,
          -9.157187
         ],
         "marker": {
          "size": 14
         },
         "mode": "markers",
         "name": "Madragoa, Lisboa",
         "showlegend": true,
         "subplot": "mapbox",
         "text": "Madragoa, Lisboa",
         "type": "scattermapbox"
        },
        {
         "lat": [
          38.729347,
          38.729347,
          38.729347,
          38.732515,
          38.729347,
          38.729347,
          38.729347,
          38.729347,
          38.729347
         ],
         "lon": [
          -9.122699,
          -9.122699,
          -9.122699,
          -9.111092,
          -9.122699,
          -9.122699,
          -9.122699,
          -9.122699,
          -9.122699
         ],
         "marker": {
          "size": 14
         },
         "mode": "markers",
         "name": "Madre de Deus, Lisboa",
         "showlegend": true,
         "subplot": "mapbox",
         "text": "Madre de Deus, Lisboa",
         "type": "scattermapbox"
        },
        {
         "lat": [
          38.743019
         ],
         "lon": [
          -9.103718
         ],
         "marker": {
          "size": 14
         },
         "mode": "markers",
         "name": "Marvila, Lisboa",
         "showlegend": true,
         "subplot": "mapbox",
         "text": "Marvila, Lisboa",
         "type": "scattermapbox"
        },
        {
         "lat": [
          38.717307
         ],
         "lon": [
          -9.128764
         ],
         "marker": {
          "size": 14
         },
         "mode": "markers",
         "name": "Mouraria, Lisboa",
         "showlegend": true,
         "subplot": "mapbox",
         "text": "Mouraria, Lisboa",
         "type": "scattermapbox"
        },
        {
         "lat": [
          38.799388,
          38.86532,
          38.831983,
          38.7836,
          38.726959,
          38.775746,
          38.810963,
          38.7272,
          38.768532,
          38.826927,
          38.704001,
          38.753468,
          38.7836,
          38.750605,
          38.928403,
          38.7836,
          38.72946,
          38.7836,
          38.7836,
          38.753468,
          38.700009,
          38.7836,
          38.810963,
          38.7836,
          38.754821,
          38.799388,
          38.7272,
          38.700009,
          38.704001,
          38.85085,
          38.791244,
          39.251171,
          38.713354,
          38.85387,
          38.810963,
          38.789115,
          38.726959,
          39.13791,
          38.85085,
          39.239078,
          38.756978,
          38.831983,
          38.700009,
          38.810963,
          38.839369,
          38.70047,
          38.7836,
          38.706521,
          38.832237,
          38.73149,
          38.810963,
          38.7836,
          38.789115,
          38.753468,
          39.13791,
          38.7836,
          38.753468,
          38.704001,
          38.753468,
          38.717641,
          38.706254,
          38.7836,
          38.7836,
          38.799388,
          38.799388,
          38.750605,
          38.700009,
          38.753468,
          39.13791,
          38.7272,
          38.707448,
          38.789115,
          38.77478,
          38.706521,
          38.7836,
          38.700009,
          38.7836,
          38.700009,
          38.85085,
          38.753468,
          38.7272,
          38.750605,
          38.71544,
          38.697039,
          38.704001,
          38.73149,
          38.7836,
          38.7836,
          38.704001,
          38.7836,
          38.706521,
          38.705822,
          38.800324,
          39.08807,
          39.239078,
          38.753468,
          38.753468,
          38.925018,
          38.85085,
          38.717641,
          38.832985,
          38.706254,
          38.704001,
          38.753468,
          38.884199,
          38.706521,
          39.13791,
          38.685446,
          38.85085,
          38.7836,
          38.706254,
          39.13791,
          38.713354,
          38.70047,
          38.7836,
          38.7836,
          38.803103,
          38.750605,
          38.85085,
          38.794441,
          38.818437,
          38.753468,
          38.753468,
          38.706254,
          38.789115,
          38.753468,
          38.818437,
          38.7836,
          38.704001,
          38.85085
         ],
         "lon": [
          -9.326315,
          -9.068826,
          -9.100162,
          -9.096479,
          -9.233825,
          -9.109248,
          -9.228035,
          -9.12738,
          -9.228036,
          -9.093789,
          -9.206428,
          -9.213547,
          -9.096479,
          -9.256312,
          -9.235682,
          -9.096479,
          -9.16486,
          -9.096479,
          -9.096479,
          -9.213547,
          -9.420955,
          -9.096479,
          -9.228035,
          -9.096479,
          -9.277849,
          -9.326315,
          -9.12738,
          -9.420955,
          -9.206428,
          -9.38031,
          -9.098936,
          -9.309893,
          -9.424257,
          -9.255748,
          -9.228035,
          -9.38585,
          -9.233825,
          -8.899521,
          -9.38031,
          -9.312948,
          -9.236886,
          -9.100162,
          -9.420955,
          -9.228035,
          -9.095181,
          -9.386603,
          -9.096479,
          -9.429002,
          -9.10427,
          -9.13966,
          -9.228035,
          -9.096479,
          -9.38585,
          -9.213547,
          -8.899521,
          -9.096479,
          -9.213547,
          -9.206428,
          -9.213547,
          -9.405381,
          -9.428721,
          -9.096479,
          -9.096479,
          -9.326315,
          -9.326315,
          -9.256312,
          -9.420955,
          -9.213547,
          -8.899521,
          -9.12738,
          -9.403571,
          -9.38585,
          -9.15601,
          -9.429002,
          -9.096479,
          -9.420955,
          -9.096479,
          -9.420955,
          -9.38031,
          -9.213547,
          -9.12738,
          -9.256312,
          -9.12566,
          -9.420091,
          -9.206428,
          -9.13966,
          -9.096479,
          -9.096479,
          -9.206428,
          -9.096479,
          -9.429002,
          -9.378908,
          -9.220824,
          -9.31249,
          -9.312948,
          -9.213547,
          -9.213547,
          -9.234414,
          -9.38031,
          -9.405381,
          -9.195696,
          -9.428721,
          -9.206428,
          -9.213547,
          -9.367655,
          -9.429002,
          -8.899521,
          -9.318785,
          -9.38031,
          -9.096479,
          -9.428721,
          -8.899521,
          -9.424257,
          -9.386603,
          -9.096479,
          -9.096479,
          -9.18945,
          -9.256312,
          -9.38031,
          -9.107941,
          -9.131168,
          -9.213547,
          -9.213547,
          -9.428721,
          -9.38585,
          -9.213547,
          -9.131168,
          -9.096479,
          -9.206428,
          -9.38031
         ],
         "marker": {
          "size": 14
         },
         "mode": "markers",
         "name": "None, Lisboa",
         "showlegend": true,
         "subplot": "mapbox",
         "text": "None, Lisboa",
         "type": "scattermapbox"
        },
        {
         "lat": [
          38.754582
         ],
         "lon": [
          -9.121707
         ],
         "marker": {
          "size": 14
         },
         "mode": "markers",
         "name": "Olaias, Lisboa",
         "showlegend": true,
         "subplot": "mapbox",
         "text": "Olaias, Lisboa",
         "type": "scattermapbox"
        },
        {
         "lat": [
          38.768614,
          38.768614,
          38.767092,
          38.76318,
          38.764242,
          38.766086,
          38.764242,
          38.764242,
          38.764242,
          38.764082
         ],
         "lon": [
          -9.095832,
          -9.095832,
          -9.1169,
          -9.108763,
          -9.118885,
          -9.115692,
          -9.118885,
          -9.118885,
          -9.118885,
          -9.120451
         ],
         "marker": {
          "size": 14
         },
         "mode": "markers",
         "name": "Olivais Sul, Lisboa",
         "showlegend": true,
         "subplot": "mapbox",
         "text": "Olivais Sul, Lisboa",
         "type": "scattermapbox"
        },
        {
         "lat": [
          38.701863,
          38.701863,
          38.701863,
          38.701863
         ],
         "lon": [
          -9.22826,
          -9.22826,
          -9.22826,
          -9.22826
         ],
         "marker": {
          "size": 14
         },
         "mode": "markers",
         "name": "Pedrouços, Lisboa",
         "showlegend": true,
         "subplot": "mapbox",
         "text": "Pedrouços, Lisboa",
         "type": "scattermapbox"
        },
        {
         "lat": [
          38.762213,
          38.762213,
          38.76677
         ],
         "lon": [
          -9.159781,
          -9.159781,
          -9.15225
         ],
         "marker": {
          "size": 14
         },
         "mode": "markers",
         "name": "Quinta do Lambert, Lisboa",
         "showlegend": true,
         "subplot": "mapbox",
         "text": "Quinta do Lambert, Lisboa",
         "type": "scattermapbox"
        },
        {
         "lat": [
          38.688553,
          38.690481,
          38.690481,
          38.690481,
          38.690481,
          38.718162,
          38.725083,
          38.690481,
          38.689117,
          38.690481,
          38.690481,
          38.690481,
          38.721599,
          38.690481,
          38.690481,
          38.690481
         ],
         "lon": [
          -9.334838,
          -9.335227,
          -9.335227,
          -9.335227,
          -9.335227,
          -9.153092,
          -9.153591,
          -9.335227,
          -9.332958,
          -9.335227,
          -9.335227,
          -9.335227,
          -9.149683,
          -9.335227,
          -9.335227,
          -9.335227
         ],
         "marker": {
          "size": 14
         },
         "mode": "markers",
         "name": "Rato, Lisboa",
         "showlegend": true,
         "subplot": "mapbox",
         "text": "Rato, Lisboa",
         "type": "scattermapbox"
        },
        {
         "lat": [
          38.74367
         ],
         "lon": [
          -9.159323
         ],
         "marker": {
          "size": 14
         },
         "mode": "markers",
         "name": "Rego, Lisboa",
         "showlegend": true,
         "subplot": "mapbox",
         "text": "Rego, Lisboa",
         "type": "scattermapbox"
        },
        {
         "lat": [
          38.730074,
          38.730074
         ],
         "lon": [
          -9.147379,
          -9.147379
         ],
         "marker": {
          "size": 14
         },
         "mode": "markers",
         "name": "Saldanha, Lisboa",
         "showlegend": true,
         "subplot": "mapbox",
         "text": "Saldanha, Lisboa",
         "type": "scattermapbox"
        },
        {
         "lat": [
          38.717181,
          38.71572,
          38.71572,
          38.71572,
          38.71572,
          38.716329
         ],
         "lon": [
          -9.124029,
          -9.125449,
          -9.125449,
          -9.125449,
          -9.125449,
          -9.120649
         ],
         "marker": {
          "size": 14
         },
         "mode": "markers",
         "name": "Santa Apolonia, Lisboa",
         "showlegend": true,
         "subplot": "mapbox",
         "text": "Santa Apolonia, Lisboa",
         "type": "scattermapbox"
        },
        {
         "lat": [
          38.724176,
          38.724176
         ],
         "lon": [
          -9.158034,
          -9.158034
         ],
         "marker": {
          "size": 14
         },
         "mode": "markers",
         "name": "Torres Amoreiras, Lisboa",
         "showlegend": true,
         "subplot": "mapbox",
         "text": "Torres Amoreiras, Lisboa",
         "type": "scattermapbox"
        }
       ],
       "layout": {
        "autosize": true,
        "height": 700,
        "mapbox": {
         "center": {
          "lat": 38.701863,
          "lon": -9.22826
         },
         "style": "carto-positron",
         "zoom": 11
        },
        "template": {
         "data": {
          "bar": [
           {
            "error_x": {
             "color": "#2a3f5f"
            },
            "error_y": {
             "color": "#2a3f5f"
            },
            "marker": {
             "line": {
              "color": "#E5ECF6",
              "width": 0.5
             }
            },
            "type": "bar"
           }
          ],
          "barpolar": [
           {
            "marker": {
             "line": {
              "color": "#E5ECF6",
              "width": 0.5
             }
            },
            "type": "barpolar"
           }
          ],
          "carpet": [
           {
            "aaxis": {
             "endlinecolor": "#2a3f5f",
             "gridcolor": "white",
             "linecolor": "white",
             "minorgridcolor": "white",
             "startlinecolor": "#2a3f5f"
            },
            "baxis": {
             "endlinecolor": "#2a3f5f",
             "gridcolor": "white",
             "linecolor": "white",
             "minorgridcolor": "white",
             "startlinecolor": "#2a3f5f"
            },
            "type": "carpet"
           }
          ],
          "choropleth": [
           {
            "colorbar": {
             "outlinewidth": 0,
             "ticks": ""
            },
            "type": "choropleth"
           }
          ],
          "contour": [
           {
            "colorbar": {
             "outlinewidth": 0,
             "ticks": ""
            },
            "colorscale": [
             [
              0,
              "#0d0887"
             ],
             [
              0.1111111111111111,
              "#46039f"
             ],
             [
              0.2222222222222222,
              "#7201a8"
             ],
             [
              0.3333333333333333,
              "#9c179e"
             ],
             [
              0.4444444444444444,
              "#bd3786"
             ],
             [
              0.5555555555555556,
              "#d8576b"
             ],
             [
              0.6666666666666666,
              "#ed7953"
             ],
             [
              0.7777777777777778,
              "#fb9f3a"
             ],
             [
              0.8888888888888888,
              "#fdca26"
             ],
             [
              1,
              "#f0f921"
             ]
            ],
            "type": "contour"
           }
          ],
          "contourcarpet": [
           {
            "colorbar": {
             "outlinewidth": 0,
             "ticks": ""
            },
            "type": "contourcarpet"
           }
          ],
          "heatmap": [
           {
            "colorbar": {
             "outlinewidth": 0,
             "ticks": ""
            },
            "colorscale": [
             [
              0,
              "#0d0887"
             ],
             [
              0.1111111111111111,
              "#46039f"
             ],
             [
              0.2222222222222222,
              "#7201a8"
             ],
             [
              0.3333333333333333,
              "#9c179e"
             ],
             [
              0.4444444444444444,
              "#bd3786"
             ],
             [
              0.5555555555555556,
              "#d8576b"
             ],
             [
              0.6666666666666666,
              "#ed7953"
             ],
             [
              0.7777777777777778,
              "#fb9f3a"
             ],
             [
              0.8888888888888888,
              "#fdca26"
             ],
             [
              1,
              "#f0f921"
             ]
            ],
            "type": "heatmap"
           }
          ],
          "heatmapgl": [
           {
            "colorbar": {
             "outlinewidth": 0,
             "ticks": ""
            },
            "colorscale": [
             [
              0,
              "#0d0887"
             ],
             [
              0.1111111111111111,
              "#46039f"
             ],
             [
              0.2222222222222222,
              "#7201a8"
             ],
             [
              0.3333333333333333,
              "#9c179e"
             ],
             [
              0.4444444444444444,
              "#bd3786"
             ],
             [
              0.5555555555555556,
              "#d8576b"
             ],
             [
              0.6666666666666666,
              "#ed7953"
             ],
             [
              0.7777777777777778,
              "#fb9f3a"
             ],
             [
              0.8888888888888888,
              "#fdca26"
             ],
             [
              1,
              "#f0f921"
             ]
            ],
            "type": "heatmapgl"
           }
          ],
          "histogram": [
           {
            "marker": {
             "colorbar": {
              "outlinewidth": 0,
              "ticks": ""
             }
            },
            "type": "histogram"
           }
          ],
          "histogram2d": [
           {
            "colorbar": {
             "outlinewidth": 0,
             "ticks": ""
            },
            "colorscale": [
             [
              0,
              "#0d0887"
             ],
             [
              0.1111111111111111,
              "#46039f"
             ],
             [
              0.2222222222222222,
              "#7201a8"
             ],
             [
              0.3333333333333333,
              "#9c179e"
             ],
             [
              0.4444444444444444,
              "#bd3786"
             ],
             [
              0.5555555555555556,
              "#d8576b"
             ],
             [
              0.6666666666666666,
              "#ed7953"
             ],
             [
              0.7777777777777778,
              "#fb9f3a"
             ],
             [
              0.8888888888888888,
              "#fdca26"
             ],
             [
              1,
              "#f0f921"
             ]
            ],
            "type": "histogram2d"
           }
          ],
          "histogram2dcontour": [
           {
            "colorbar": {
             "outlinewidth": 0,
             "ticks": ""
            },
            "colorscale": [
             [
              0,
              "#0d0887"
             ],
             [
              0.1111111111111111,
              "#46039f"
             ],
             [
              0.2222222222222222,
              "#7201a8"
             ],
             [
              0.3333333333333333,
              "#9c179e"
             ],
             [
              0.4444444444444444,
              "#bd3786"
             ],
             [
              0.5555555555555556,
              "#d8576b"
             ],
             [
              0.6666666666666666,
              "#ed7953"
             ],
             [
              0.7777777777777778,
              "#fb9f3a"
             ],
             [
              0.8888888888888888,
              "#fdca26"
             ],
             [
              1,
              "#f0f921"
             ]
            ],
            "type": "histogram2dcontour"
           }
          ],
          "mesh3d": [
           {
            "colorbar": {
             "outlinewidth": 0,
             "ticks": ""
            },
            "type": "mesh3d"
           }
          ],
          "parcoords": [
           {
            "line": {
             "colorbar": {
              "outlinewidth": 0,
              "ticks": ""
             }
            },
            "type": "parcoords"
           }
          ],
          "pie": [
           {
            "automargin": true,
            "type": "pie"
           }
          ],
          "scatter": [
           {
            "marker": {
             "colorbar": {
              "outlinewidth": 0,
              "ticks": ""
             }
            },
            "type": "scatter"
           }
          ],
          "scatter3d": [
           {
            "line": {
             "colorbar": {
              "outlinewidth": 0,
              "ticks": ""
             }
            },
            "marker": {
             "colorbar": {
              "outlinewidth": 0,
              "ticks": ""
             }
            },
            "type": "scatter3d"
           }
          ],
          "scattercarpet": [
           {
            "marker": {
             "colorbar": {
              "outlinewidth": 0,
              "ticks": ""
             }
            },
            "type": "scattercarpet"
           }
          ],
          "scattergeo": [
           {
            "marker": {
             "colorbar": {
              "outlinewidth": 0,
              "ticks": ""
             }
            },
            "type": "scattergeo"
           }
          ],
          "scattergl": [
           {
            "marker": {
             "colorbar": {
              "outlinewidth": 0,
              "ticks": ""
             }
            },
            "type": "scattergl"
           }
          ],
          "scattermapbox": [
           {
            "marker": {
             "colorbar": {
              "outlinewidth": 0,
              "ticks": ""
             }
            },
            "type": "scattermapbox"
           }
          ],
          "scatterpolar": [
           {
            "marker": {
             "colorbar": {
              "outlinewidth": 0,
              "ticks": ""
             }
            },
            "type": "scatterpolar"
           }
          ],
          "scatterpolargl": [
           {
            "marker": {
             "colorbar": {
              "outlinewidth": 0,
              "ticks": ""
             }
            },
            "type": "scatterpolargl"
           }
          ],
          "scatterternary": [
           {
            "marker": {
             "colorbar": {
              "outlinewidth": 0,
              "ticks": ""
             }
            },
            "type": "scatterternary"
           }
          ],
          "surface": [
           {
            "colorbar": {
             "outlinewidth": 0,
             "ticks": ""
            },
            "colorscale": [
             [
              0,
              "#0d0887"
             ],
             [
              0.1111111111111111,
              "#46039f"
             ],
             [
              0.2222222222222222,
              "#7201a8"
             ],
             [
              0.3333333333333333,
              "#9c179e"
             ],
             [
              0.4444444444444444,
              "#bd3786"
             ],
             [
              0.5555555555555556,
              "#d8576b"
             ],
             [
              0.6666666666666666,
              "#ed7953"
             ],
             [
              0.7777777777777778,
              "#fb9f3a"
             ],
             [
              0.8888888888888888,
              "#fdca26"
             ],
             [
              1,
              "#f0f921"
             ]
            ],
            "type": "surface"
           }
          ],
          "table": [
           {
            "cells": {
             "fill": {
              "color": "#EBF0F8"
             },
             "line": {
              "color": "white"
             }
            },
            "header": {
             "fill": {
              "color": "#C8D4E3"
             },
             "line": {
              "color": "white"
             }
            },
            "type": "table"
           }
          ]
         },
         "layout": {
          "annotationdefaults": {
           "arrowcolor": "#2a3f5f",
           "arrowhead": 0,
           "arrowwidth": 1
          },
          "coloraxis": {
           "colorbar": {
            "outlinewidth": 0,
            "ticks": ""
           }
          },
          "colorscale": {
           "diverging": [
            [
             0,
             "#8e0152"
            ],
            [
             0.1,
             "#c51b7d"
            ],
            [
             0.2,
             "#de77ae"
            ],
            [
             0.3,
             "#f1b6da"
            ],
            [
             0.4,
             "#fde0ef"
            ],
            [
             0.5,
             "#f7f7f7"
            ],
            [
             0.6,
             "#e6f5d0"
            ],
            [
             0.7,
             "#b8e186"
            ],
            [
             0.8,
             "#7fbc41"
            ],
            [
             0.9,
             "#4d9221"
            ],
            [
             1,
             "#276419"
            ]
           ],
           "sequential": [
            [
             0,
             "#0d0887"
            ],
            [
             0.1111111111111111,
             "#46039f"
            ],
            [
             0.2222222222222222,
             "#7201a8"
            ],
            [
             0.3333333333333333,
             "#9c179e"
            ],
            [
             0.4444444444444444,
             "#bd3786"
            ],
            [
             0.5555555555555556,
             "#d8576b"
            ],
            [
             0.6666666666666666,
             "#ed7953"
            ],
            [
             0.7777777777777778,
             "#fb9f3a"
            ],
            [
             0.8888888888888888,
             "#fdca26"
            ],
            [
             1,
             "#f0f921"
            ]
           ],
           "sequentialminus": [
            [
             0,
             "#0d0887"
            ],
            [
             0.1111111111111111,
             "#46039f"
            ],
            [
             0.2222222222222222,
             "#7201a8"
            ],
            [
             0.3333333333333333,
             "#9c179e"
            ],
            [
             0.4444444444444444,
             "#bd3786"
            ],
            [
             0.5555555555555556,
             "#d8576b"
            ],
            [
             0.6666666666666666,
             "#ed7953"
            ],
            [
             0.7777777777777778,
             "#fb9f3a"
            ],
            [
             0.8888888888888888,
             "#fdca26"
            ],
            [
             1,
             "#f0f921"
            ]
           ]
          },
          "colorway": [
           "#636efa",
           "#EF553B",
           "#00cc96",
           "#ab63fa",
           "#FFA15A",
           "#19d3f3",
           "#FF6692",
           "#B6E880",
           "#FF97FF",
           "#FECB52"
          ],
          "font": {
           "color": "#2a3f5f"
          },
          "geo": {
           "bgcolor": "white",
           "lakecolor": "white",
           "landcolor": "#E5ECF6",
           "showlakes": true,
           "showland": true,
           "subunitcolor": "white"
          },
          "hoverlabel": {
           "align": "left"
          },
          "hovermode": "closest",
          "mapbox": {
           "style": "light"
          },
          "paper_bgcolor": "white",
          "plot_bgcolor": "#E5ECF6",
          "polar": {
           "angularaxis": {
            "gridcolor": "white",
            "linecolor": "white",
            "ticks": ""
           },
           "bgcolor": "#E5ECF6",
           "radialaxis": {
            "gridcolor": "white",
            "linecolor": "white",
            "ticks": ""
           }
          },
          "scene": {
           "xaxis": {
            "backgroundcolor": "#E5ECF6",
            "gridcolor": "white",
            "gridwidth": 2,
            "linecolor": "white",
            "showbackground": true,
            "ticks": "",
            "zerolinecolor": "white"
           },
           "yaxis": {
            "backgroundcolor": "#E5ECF6",
            "gridcolor": "white",
            "gridwidth": 2,
            "linecolor": "white",
            "showbackground": true,
            "ticks": "",
            "zerolinecolor": "white"
           },
           "zaxis": {
            "backgroundcolor": "#E5ECF6",
            "gridcolor": "white",
            "gridwidth": 2,
            "linecolor": "white",
            "showbackground": true,
            "ticks": "",
            "zerolinecolor": "white"
           }
          },
          "shapedefaults": {
           "line": {
            "color": "#2a3f5f"
           }
          },
          "ternary": {
           "aaxis": {
            "gridcolor": "white",
            "linecolor": "white",
            "ticks": ""
           },
           "baxis": {
            "gridcolor": "white",
            "linecolor": "white",
            "ticks": ""
           },
           "bgcolor": "#E5ECF6",
           "caxis": {
            "gridcolor": "white",
            "linecolor": "white",
            "ticks": ""
           }
          },
          "title": {
           "x": 0.05
          },
          "xaxis": {
           "automargin": true,
           "gridcolor": "white",
           "linecolor": "white",
           "ticks": "",
           "title": {
            "standoff": 15
           },
           "zerolinecolor": "white",
           "zerolinewidth": 2
          },
          "yaxis": {
           "automargin": true,
           "gridcolor": "white",
           "linecolor": "white",
           "ticks": "",
           "title": {
            "standoff": 15
           },
           "zerolinecolor": "white",
           "zerolinewidth": 2
          }
         }
        },
        "title": {
         "text": "Color ad by area"
        }
       }
      },
      "text/html": [
       "<div>\n",
       "        \n",
       "        \n",
       "            <div id=\"5465500b-ea5d-497a-81f4-41c188cdb59d\" class=\"plotly-graph-div\" style=\"height:700px; width:100%;\"></div>\n",
       "            <script type=\"text/javascript\">\n",
       "                require([\"plotly\"], function(Plotly) {\n",
       "                    window.PLOTLYENV=window.PLOTLYENV || {};\n",
       "                    \n",
       "                if (document.getElementById(\"5465500b-ea5d-497a-81f4-41c188cdb59d\")) {\n",
       "                    Plotly.newPlot(\n",
       "                        '5465500b-ea5d-497a-81f4-41c188cdb59d',\n",
       "                        [{\"lat\": [38.714579, 38.714579, 38.714579, 38.714579, 38.714579, 38.714579, 38.714579, 38.714579], \"lon\": [-9.204513, -9.204513, -9.204513, -9.204513, -9.204513, -9.204513, -9.204513, -9.204513], \"marker\": {\"size\": 14}, \"mode\": \"markers\", \"name\": \"Ajuda, Lisboa\", \"showlegend\": true, \"subplot\": \"mapbox\", \"text\": \"Ajuda, Lisboa\", \"type\": \"scattermapbox\"}, {\"lat\": [38.705566, 38.702957, 38.702957, 38.702957, 38.702957, 38.702957, 38.702957, 38.702957, 38.702957, 38.702957, 38.702957], \"lon\": [-9.18135, -9.173346, -9.173346, -9.173346, -9.173346, -9.173346, -9.173346, -9.173346, -9.173346, -9.173346, -9.173346], \"marker\": {\"size\": 14}, \"mode\": \"markers\", \"name\": \"Alc\\u00e2ntara, Lisboa\", \"showlegend\": true, \"subplot\": \"mapbox\", \"text\": \"Alc\\u00e2ntara, Lisboa\", \"type\": \"scattermapbox\"}, {\"lat\": [38.728016], \"lon\": [-9.170332], \"marker\": {\"size\": 14}, \"mode\": \"markers\", \"name\": \"Alto da Serafina, Lisboa\", \"showlegend\": true, \"subplot\": \"mapbox\", \"text\": \"Alto da Serafina, Lisboa\", \"type\": \"scattermapbox\"}, {\"lat\": [38.731798, 38.742127, 38.73891, 38.73891, 38.73891, 38.73891, 38.73891, 38.742127, 38.73891, 38.731798, 38.742127, 38.733649], \"lon\": [-9.129194, -9.132732, -9.13385, -9.13385, -9.13385, -9.13385, -9.13385, -9.132732, -9.13385, -9.129194, -9.132732, -9.134676], \"marker\": {\"size\": 14}, \"mode\": \"markers\", \"name\": \"Alto do Pina, Lisboa\", \"showlegend\": true, \"subplot\": \"mapbox\", \"text\": \"Alto do Pina, Lisboa\", \"type\": \"scattermapbox\"}, {\"lat\": [38.755499, 38.755499, 38.755331, 38.755499, 38.755499, 38.755499, 38.755499, 38.755499, 38.755499, 38.755499, 38.755499, 38.758343], \"lon\": [-9.14017, -9.14017, -9.131108, -9.14017, -9.14017, -9.14017, -9.14017, -9.14017, -9.14017, -9.14017, -9.14017, -9.140653], \"marker\": {\"size\": 14}, \"mode\": \"markers\", \"name\": \"Alvalade, Lisboa\", \"showlegend\": true, \"subplot\": \"mapbox\", \"text\": \"Alvalade, Lisboa\", \"type\": \"scattermapbox\"}, {\"lat\": [38.734936, 38.736747, 38.738241, 38.734936, 38.736119], \"lon\": [-9.139881, -9.136328, -9.13892, -9.139881, -9.14645], \"marker\": {\"size\": 14}, \"mode\": \"markers\", \"name\": \"Arco Cego, Lisboa\", \"showlegend\": true, \"subplot\": \"mapbox\", \"text\": \"Arco Cego, Lisboa\", \"type\": \"scattermapbox\"}, {\"lat\": [38.706814], \"lon\": [-9.147749], \"marker\": {\"size\": 14}, \"mode\": \"markers\", \"name\": \"Bairro Alto, Lisboa\", \"showlegend\": true, \"subplot\": \"mapbox\", \"text\": \"Bairro Alto, Lisboa\", \"type\": \"scattermapbox\"}, {\"lat\": [38.725725, 38.727866], \"lon\": [-9.129122, -9.125702], \"marker\": {\"size\": 14}, \"mode\": \"markers\", \"name\": \"Bairro Lopes, Lisboa\", \"showlegend\": true, \"subplot\": \"mapbox\", \"text\": \"Bairro Lopes, Lisboa\", \"type\": \"scattermapbox\"}, {\"lat\": [38.742536, 38.741289], \"lon\": [-9.172646, -9.174548], \"marker\": {\"size\": 14}, \"mode\": \"markers\", \"name\": \"Bairro das Furnas, Lisboa\", \"showlegend\": true, \"subplot\": \"mapbox\", \"text\": \"Bairro das Furnas, Lisboa\", \"type\": \"scattermapbox\"}, {\"lat\": [38.716184, 38.716184, 38.717659, 38.716184, 38.716184, 38.717659], \"lon\": [-9.136845, -9.136845, -9.141661, -9.136845, -9.136845, -9.141661], \"marker\": {\"size\": 14}, \"mode\": \"markers\", \"name\": \"Baixa, Lisboa\", \"showlegend\": true, \"subplot\": \"mapbox\", \"text\": \"Baixa, Lisboa\", \"type\": \"scattermapbox\"}, {\"lat\": [38.733372], \"lon\": [-9.105885], \"marker\": {\"size\": 14}, \"mode\": \"markers\", \"name\": \"Beato, Lisboa\", \"showlegend\": true, \"subplot\": \"mapbox\", \"text\": \"Beato, Lisboa\", \"type\": \"scattermapbox\"}, {\"lat\": [38.750096, 38.750096, 38.750096], \"lon\": [-9.195576, -9.195576, -9.195576], \"marker\": {\"size\": 14}, \"mode\": \"markers\", \"name\": \"Benfica, Lisboa\", \"showlegend\": true, \"subplot\": \"mapbox\", \"text\": \"Benfica, Lisboa\", \"type\": \"scattermapbox\"}, {\"lat\": [38.742147, 38.744038], \"lon\": [-9.208716, -9.209015], \"marker\": {\"size\": 14}, \"mode\": \"markers\", \"name\": \"Boavista, Lisboa\", \"showlegend\": true, \"subplot\": \"mapbox\", \"text\": \"Boavista, Lisboa\", \"type\": \"scattermapbox\"}, {\"lat\": [38.745512, 38.745512, 38.745512, 38.745512, 38.745512, 38.743596, 38.745512, 38.748075, 38.746756, 38.74698, 38.745512, 38.745512, 38.749639, 38.741386], \"lon\": [-9.136801, -9.136801, -9.136801, -9.136801, -9.136801, -9.136282, -9.136801, -9.141012, -9.143933, -9.137985, -9.136801, -9.136801, -9.140519, -9.145053], \"marker\": {\"size\": 14}, \"mode\": \"markers\", \"name\": \"Campo Pequeno, Lisbon, Portugal, Lisboa\", \"showlegend\": true, \"subplot\": \"mapbox\", \"text\": \"Campo Pequeno, Lisbon, Portugal, Lisboa\", \"type\": \"scattermapbox\"}, {\"lat\": [38.718867, 38.718867, 38.718867, 38.718867, 38.718867, 38.718867, 38.718867, 38.718867, 38.718867, 38.718867, 38.71975, 38.718867, 38.718867, 38.718867, 38.718867, 38.718867, 38.718867, 38.718867, 38.718867, 38.718867, 38.714495], \"lon\": [-9.166314, -9.166314, -9.166314, -9.166314, -9.166314, -9.166314, -9.166314, -9.166314, -9.166314, -9.166314, -9.169459, -9.166314, -9.166314, -9.166314, -9.166314, -9.166314, -9.166314, -9.166314, -9.166314, -9.166314, -9.169621], \"marker\": {\"size\": 14}, \"mode\": \"markers\", \"name\": \"Campo de Ourique, Lisboa\", \"showlegend\": true, \"subplot\": \"mapbox\", \"text\": \"Campo de Ourique, Lisboa\", \"type\": \"scattermapbox\"}, {\"lat\": [38.704838, 38.705261], \"lon\": [-9.205837, -9.205827], \"marker\": {\"size\": 14}, \"mode\": \"markers\", \"name\": \"Caram\\u00e3o, Lisboa\", \"showlegend\": true, \"subplot\": \"mapbox\", \"text\": \"Caram\\u00e3o, Lisboa\", \"type\": \"scattermapbox\"}, {\"lat\": [38.759595, 38.750549, 38.760758, 38.750549, 38.750549, 38.750549, 38.750549, 38.750549, 38.766189, 38.750549, 38.750549, 38.750549, 38.750549, 38.753652, 38.750549, 38.750549, 38.750549, 38.750549, 38.750994, 38.750549, 38.750549, 38.763118, 38.750549, 38.762344, 38.750549, 38.750549, 38.759595, 38.750549, 38.759595, 38.750549, 38.763785, 38.750826], \"lon\": [-9.171356, -9.170114, -9.173027, -9.170114, -9.170114, -9.170114, -9.170114, -9.170114, -9.178483, -9.170114, -9.170114, -9.170114, -9.170114, -9.172775, -9.170114, -9.170114, -9.170114, -9.170114, -9.173055, -9.170114, -9.170114, -9.170786, -9.170114, -9.173752, -9.170114, -9.170114, -9.171356, -9.170114, -9.171356, -9.170114, -9.174247, -9.17126], \"marker\": {\"size\": 14}, \"mode\": \"markers\", \"name\": \"Carnide, Lisboa\", \"showlegend\": true, \"subplot\": \"mapbox\", \"text\": \"Carnide, Lisboa\", \"type\": \"scattermapbox\"}, {\"lat\": [38.711857, 38.711857, 38.711857, 38.711857, 38.709702, 38.710952, 38.710952, 38.709702, 38.710952, 38.711857, 38.711857, 38.709702, 38.710952, 38.709902, 38.709322], \"lon\": [-9.132866, -9.132866, -9.132866, -9.132866, -9.130423, -9.133888, -9.133888, -9.130423, -9.133888, -9.132866, -9.132866, -9.130423, -9.133888, -9.134507, -9.13183], \"marker\": {\"size\": 14}, \"mode\": \"markers\", \"name\": \"Castelo, Lisboa\", \"showlegend\": true, \"subplot\": \"mapbox\", \"text\": \"Castelo, Lisboa\", \"type\": \"scattermapbox\"}, {\"lat\": [38.747444], \"lon\": [-9.112694], \"marker\": {\"size\": 14}, \"mode\": \"markers\", \"name\": \"Chelas, Lisboa\", \"showlegend\": true, \"subplot\": \"mapbox\", \"text\": \"Chelas, Lisboa\", \"type\": \"scattermapbox\"}, {\"lat\": [38.709372, 38.706351, 38.709372, 38.706298, 38.707986, 38.709372], \"lon\": [-9.140087, -9.143013, -9.140087, -9.145145, -9.141353, -9.140087], \"marker\": {\"size\": 14}, \"mode\": \"markers\", \"name\": \"Chiado, Lisboa\", \"showlegend\": true, \"subplot\": \"mapbox\", \"text\": \"Chiado, Lisboa\", \"type\": \"scattermapbox\"}, {\"lat\": [38.758063], \"lon\": [-9.153489], \"marker\": {\"size\": 14}, \"mode\": \"markers\", \"name\": \"Cidade Universitaria, Lisboa\", \"showlegend\": true, \"subplot\": \"mapbox\", \"text\": \"Cidade Universitaria, Lisboa\", \"type\": \"scattermapbox\"}, {\"lat\": [38.753028], \"lon\": [-9.143755], \"marker\": {\"size\": 14}, \"mode\": \"markers\", \"name\": \"Entrecampos, Lisboa\", \"showlegend\": true, \"subplot\": \"mapbox\", \"text\": \"Entrecampos, Lisboa\", \"type\": \"scattermapbox\"}, {\"lat\": [38.723677, 38.723677, 38.724881, 38.723677, 38.732148, 38.72978, 38.723677, 38.723677, 38.728205, 38.723677, 38.723677, 38.723677], \"lon\": [-9.135886, -9.135886, -9.147071, -9.135886, -9.139166, -9.140472, -9.135886, -9.135886, -9.131788, -9.135886, -9.135886, -9.135886], \"marker\": {\"size\": 14}, \"mode\": \"markers\", \"name\": \"Estefania, Lisboa\", \"showlegend\": true, \"subplot\": \"mapbox\", \"text\": \"Estefania, Lisboa\", \"type\": \"scattermapbox\"}, {\"lat\": [38.750707, 38.750707, 38.750707, 38.750707, 38.750707, 38.750707, 38.750707, 38.750707, 38.750707, 38.750707, 38.7459, 38.750707, 38.750707, 38.750707, 38.7459, 38.750707, 38.750707, 38.750707, 38.750707], \"lon\": [-9.179196, -9.179196, -9.179196, -9.179196, -9.179196, -9.179196, -9.179196, -9.179196, -9.179196, -9.179196, -9.185446, -9.179196, -9.179196, -9.179196, -9.185446, -9.179196, -9.179196, -9.179196, -9.179196], \"marker\": {\"size\": 14}, \"mode\": \"markers\", \"name\": \"Furnas, Lisboa\", \"showlegend\": true, \"subplot\": \"mapbox\", \"text\": \"Furnas, Lisboa\", \"type\": \"scattermapbox\"}, {\"lat\": [38.780042, 38.787904, 38.769851, 38.773593, 38.773593, 38.782785, 38.769851, 38.769851, 38.796866, 38.780042, 38.814467, 38.780042, 38.773593, 38.774029, 38.780042, 38.769851, 38.770773, 38.780042, 38.772383, 38.780042, 38.769851, 38.786961, 38.769851, 38.771287, 38.769851, 38.782486, 38.795051, 38.769851, 38.786503, 38.780042, 38.814467, 38.780042, 38.780042, 38.773593, 38.773593, 38.814467, 38.780042, 38.780042, 38.776952, 38.780042], \"lon\": [-9.164268, -9.183872, -9.162275, -9.157539, -9.157539, -9.148809, -9.162275, -9.162275, -9.176455, -9.164268, -9.156119, -9.164268, -9.157539, -9.15307, -9.164268, -9.162275, -9.162519, -9.164268, -9.172163, -9.164268, -9.162275, -9.176059, -9.162275, -9.15497, -9.162275, -9.156751, -9.146891, -9.162275, -9.185389, -9.164268, -9.156119, -9.164268, -9.164268, -9.157539, -9.157539, -9.156119, -9.164268, -9.164268, -9.151017, -9.164268], \"marker\": {\"size\": 14}, \"mode\": \"markers\", \"name\": \"Lumiar, Lisboa\", \"showlegend\": true, \"subplot\": \"mapbox\", \"text\": \"Lumiar, Lisboa\", \"type\": \"scattermapbox\"}, {\"lat\": [38.759495, 38.750061], \"lon\": [-9.192658, -9.187153], \"marker\": {\"size\": 14}, \"mode\": \"markers\", \"name\": \"Luz, Lisboa\", \"showlegend\": true, \"subplot\": \"mapbox\", \"text\": \"Luz, Lisboa\", \"type\": \"scattermapbox\"}, {\"lat\": [38.704866, 38.707125, 38.707125], \"lon\": [-9.164164, -9.157187, -9.157187], \"marker\": {\"size\": 14}, \"mode\": \"markers\", \"name\": \"Madragoa, Lisboa\", \"showlegend\": true, \"subplot\": \"mapbox\", \"text\": \"Madragoa, Lisboa\", \"type\": \"scattermapbox\"}, {\"lat\": [38.729347, 38.729347, 38.729347, 38.732515, 38.729347, 38.729347, 38.729347, 38.729347, 38.729347], \"lon\": [-9.122699, -9.122699, -9.122699, -9.111092, -9.122699, -9.122699, -9.122699, -9.122699, -9.122699], \"marker\": {\"size\": 14}, \"mode\": \"markers\", \"name\": \"Madre de Deus, Lisboa\", \"showlegend\": true, \"subplot\": \"mapbox\", \"text\": \"Madre de Deus, Lisboa\", \"type\": \"scattermapbox\"}, {\"lat\": [38.743019], \"lon\": [-9.103718], \"marker\": {\"size\": 14}, \"mode\": \"markers\", \"name\": \"Marvila, Lisboa\", \"showlegend\": true, \"subplot\": \"mapbox\", \"text\": \"Marvila, Lisboa\", \"type\": \"scattermapbox\"}, {\"lat\": [38.717307], \"lon\": [-9.128764], \"marker\": {\"size\": 14}, \"mode\": \"markers\", \"name\": \"Mouraria, Lisboa\", \"showlegend\": true, \"subplot\": \"mapbox\", \"text\": \"Mouraria, Lisboa\", \"type\": \"scattermapbox\"}, {\"lat\": [38.799388, 38.86532, 38.831983, 38.7836, 38.726959, 38.775746, 38.810963, 38.7272, 38.768532, 38.826927, 38.704001, 38.753468, 38.7836, 38.750605, 38.928403, 38.7836, 38.72946, 38.7836, 38.7836, 38.753468, 38.700009, 38.7836, 38.810963, 38.7836, 38.754821, 38.799388, 38.7272, 38.700009, 38.704001, 38.85085, 38.791244, 39.251171, 38.713354, 38.85387, 38.810963, 38.789115, 38.726959, 39.13791, 38.85085, 39.239078, 38.756978, 38.831983, 38.700009, 38.810963, 38.839369, 38.70047, 38.7836, 38.706521, 38.832237, 38.73149, 38.810963, 38.7836, 38.789115, 38.753468, 39.13791, 38.7836, 38.753468, 38.704001, 38.753468, 38.717641, 38.706254, 38.7836, 38.7836, 38.799388, 38.799388, 38.750605, 38.700009, 38.753468, 39.13791, 38.7272, 38.707448, 38.789115, 38.77478, 38.706521, 38.7836, 38.700009, 38.7836, 38.700009, 38.85085, 38.753468, 38.7272, 38.750605, 38.71544, 38.697039, 38.704001, 38.73149, 38.7836, 38.7836, 38.704001, 38.7836, 38.706521, 38.705822, 38.800324, 39.08807, 39.239078, 38.753468, 38.753468, 38.925018, 38.85085, 38.717641, 38.832985, 38.706254, 38.704001, 38.753468, 38.884199, 38.706521, 39.13791, 38.685446, 38.85085, 38.7836, 38.706254, 39.13791, 38.713354, 38.70047, 38.7836, 38.7836, 38.803103, 38.750605, 38.85085, 38.794441, 38.818437, 38.753468, 38.753468, 38.706254, 38.789115, 38.753468, 38.818437, 38.7836, 38.704001, 38.85085], \"lon\": [-9.326315, -9.068826, -9.100162, -9.096479, -9.233825, -9.109248, -9.228035, -9.12738, -9.228036, -9.093789, -9.206428, -9.213547, -9.096479, -9.256312, -9.235682, -9.096479, -9.16486, -9.096479, -9.096479, -9.213547, -9.420955, -9.096479, -9.228035, -9.096479, -9.277849, -9.326315, -9.12738, -9.420955, -9.206428, -9.38031, -9.098936, -9.309893, -9.424257, -9.255748, -9.228035, -9.38585, -9.233825, -8.899521, -9.38031, -9.312948, -9.236886, -9.100162, -9.420955, -9.228035, -9.095181, -9.386603, -9.096479, -9.429002, -9.10427, -9.13966, -9.228035, -9.096479, -9.38585, -9.213547, -8.899521, -9.096479, -9.213547, -9.206428, -9.213547, -9.405381, -9.428721, -9.096479, -9.096479, -9.326315, -9.326315, -9.256312, -9.420955, -9.213547, -8.899521, -9.12738, -9.403571, -9.38585, -9.15601, -9.429002, -9.096479, -9.420955, -9.096479, -9.420955, -9.38031, -9.213547, -9.12738, -9.256312, -9.12566, -9.420091, -9.206428, -9.13966, -9.096479, -9.096479, -9.206428, -9.096479, -9.429002, -9.378908, -9.220824, -9.31249, -9.312948, -9.213547, -9.213547, -9.234414, -9.38031, -9.405381, -9.195696, -9.428721, -9.206428, -9.213547, -9.367655, -9.429002, -8.899521, -9.318785, -9.38031, -9.096479, -9.428721, -8.899521, -9.424257, -9.386603, -9.096479, -9.096479, -9.18945, -9.256312, -9.38031, -9.107941, -9.131168, -9.213547, -9.213547, -9.428721, -9.38585, -9.213547, -9.131168, -9.096479, -9.206428, -9.38031], \"marker\": {\"size\": 14}, \"mode\": \"markers\", \"name\": \"None, Lisboa\", \"showlegend\": true, \"subplot\": \"mapbox\", \"text\": \"None, Lisboa\", \"type\": \"scattermapbox\"}, {\"lat\": [38.754582], \"lon\": [-9.121707], \"marker\": {\"size\": 14}, \"mode\": \"markers\", \"name\": \"Olaias, Lisboa\", \"showlegend\": true, \"subplot\": \"mapbox\", \"text\": \"Olaias, Lisboa\", \"type\": \"scattermapbox\"}, {\"lat\": [38.768614, 38.768614, 38.767092, 38.76318, 38.764242, 38.766086, 38.764242, 38.764242, 38.764242, 38.764082], \"lon\": [-9.095832, -9.095832, -9.1169, -9.108763, -9.118885, -9.115692, -9.118885, -9.118885, -9.118885, -9.120451], \"marker\": {\"size\": 14}, \"mode\": \"markers\", \"name\": \"Olivais Sul, Lisboa\", \"showlegend\": true, \"subplot\": \"mapbox\", \"text\": \"Olivais Sul, Lisboa\", \"type\": \"scattermapbox\"}, {\"lat\": [38.701863, 38.701863, 38.701863, 38.701863], \"lon\": [-9.22826, -9.22826, -9.22826, -9.22826], \"marker\": {\"size\": 14}, \"mode\": \"markers\", \"name\": \"Pedrou\\u00e7os, Lisboa\", \"showlegend\": true, \"subplot\": \"mapbox\", \"text\": \"Pedrou\\u00e7os, Lisboa\", \"type\": \"scattermapbox\"}, {\"lat\": [38.762213, 38.762213, 38.76677], \"lon\": [-9.159781, -9.159781, -9.15225], \"marker\": {\"size\": 14}, \"mode\": \"markers\", \"name\": \"Quinta do Lambert, Lisboa\", \"showlegend\": true, \"subplot\": \"mapbox\", \"text\": \"Quinta do Lambert, Lisboa\", \"type\": \"scattermapbox\"}, {\"lat\": [38.688553, 38.690481, 38.690481, 38.690481, 38.690481, 38.718162, 38.725083, 38.690481, 38.689117, 38.690481, 38.690481, 38.690481, 38.721599, 38.690481, 38.690481, 38.690481], \"lon\": [-9.334838, -9.335227, -9.335227, -9.335227, -9.335227, -9.153092, -9.153591, -9.335227, -9.332958, -9.335227, -9.335227, -9.335227, -9.149683, -9.335227, -9.335227, -9.335227], \"marker\": {\"size\": 14}, \"mode\": \"markers\", \"name\": \"Rato, Lisboa\", \"showlegend\": true, \"subplot\": \"mapbox\", \"text\": \"Rato, Lisboa\", \"type\": \"scattermapbox\"}, {\"lat\": [38.74367], \"lon\": [-9.159323], \"marker\": {\"size\": 14}, \"mode\": \"markers\", \"name\": \"Rego, Lisboa\", \"showlegend\": true, \"subplot\": \"mapbox\", \"text\": \"Rego, Lisboa\", \"type\": \"scattermapbox\"}, {\"lat\": [38.730074, 38.730074], \"lon\": [-9.147379, -9.147379], \"marker\": {\"size\": 14}, \"mode\": \"markers\", \"name\": \"Saldanha, Lisboa\", \"showlegend\": true, \"subplot\": \"mapbox\", \"text\": \"Saldanha, Lisboa\", \"type\": \"scattermapbox\"}, {\"lat\": [38.717181, 38.71572, 38.71572, 38.71572, 38.71572, 38.716329], \"lon\": [-9.124029, -9.125449, -9.125449, -9.125449, -9.125449, -9.120649], \"marker\": {\"size\": 14}, \"mode\": \"markers\", \"name\": \"Santa Apolonia, Lisboa\", \"showlegend\": true, \"subplot\": \"mapbox\", \"text\": \"Santa Apolonia, Lisboa\", \"type\": \"scattermapbox\"}, {\"lat\": [38.724176, 38.724176], \"lon\": [-9.158034, -9.158034], \"marker\": {\"size\": 14}, \"mode\": \"markers\", \"name\": \"Torres Amoreiras, Lisboa\", \"showlegend\": true, \"subplot\": \"mapbox\", \"text\": \"Torres Amoreiras, Lisboa\", \"type\": \"scattermapbox\"}],\n",
       "                        {\"autosize\": true, \"height\": 700, \"mapbox\": {\"center\": {\"lat\": 38.701863, \"lon\": -9.22826}, \"style\": \"carto-positron\", \"zoom\": 11}, \"template\": {\"data\": {\"bar\": [{\"error_x\": {\"color\": \"#2a3f5f\"}, \"error_y\": {\"color\": \"#2a3f5f\"}, \"marker\": {\"line\": {\"color\": \"#E5ECF6\", \"width\": 0.5}}, \"type\": \"bar\"}], \"barpolar\": [{\"marker\": {\"line\": {\"color\": \"#E5ECF6\", \"width\": 0.5}}, \"type\": \"barpolar\"}], \"carpet\": [{\"aaxis\": {\"endlinecolor\": \"#2a3f5f\", \"gridcolor\": \"white\", \"linecolor\": \"white\", \"minorgridcolor\": \"white\", \"startlinecolor\": \"#2a3f5f\"}, \"baxis\": {\"endlinecolor\": \"#2a3f5f\", \"gridcolor\": \"white\", \"linecolor\": \"white\", \"minorgridcolor\": \"white\", \"startlinecolor\": \"#2a3f5f\"}, \"type\": \"carpet\"}], \"choropleth\": [{\"colorbar\": {\"outlinewidth\": 0, \"ticks\": \"\"}, \"type\": \"choropleth\"}], \"contour\": [{\"colorbar\": {\"outlinewidth\": 0, \"ticks\": \"\"}, \"colorscale\": [[0.0, \"#0d0887\"], [0.1111111111111111, \"#46039f\"], [0.2222222222222222, \"#7201a8\"], [0.3333333333333333, \"#9c179e\"], [0.4444444444444444, \"#bd3786\"], [0.5555555555555556, \"#d8576b\"], [0.6666666666666666, \"#ed7953\"], [0.7777777777777778, \"#fb9f3a\"], [0.8888888888888888, \"#fdca26\"], [1.0, \"#f0f921\"]], \"type\": \"contour\"}], \"contourcarpet\": [{\"colorbar\": {\"outlinewidth\": 0, \"ticks\": \"\"}, \"type\": \"contourcarpet\"}], \"heatmap\": [{\"colorbar\": {\"outlinewidth\": 0, \"ticks\": \"\"}, \"colorscale\": [[0.0, \"#0d0887\"], [0.1111111111111111, \"#46039f\"], [0.2222222222222222, \"#7201a8\"], [0.3333333333333333, \"#9c179e\"], [0.4444444444444444, \"#bd3786\"], [0.5555555555555556, \"#d8576b\"], [0.6666666666666666, \"#ed7953\"], [0.7777777777777778, \"#fb9f3a\"], [0.8888888888888888, \"#fdca26\"], [1.0, \"#f0f921\"]], \"type\": \"heatmap\"}], \"heatmapgl\": [{\"colorbar\": {\"outlinewidth\": 0, \"ticks\": \"\"}, \"colorscale\": [[0.0, \"#0d0887\"], [0.1111111111111111, \"#46039f\"], [0.2222222222222222, \"#7201a8\"], [0.3333333333333333, \"#9c179e\"], [0.4444444444444444, \"#bd3786\"], [0.5555555555555556, \"#d8576b\"], [0.6666666666666666, \"#ed7953\"], [0.7777777777777778, \"#fb9f3a\"], [0.8888888888888888, \"#fdca26\"], [1.0, \"#f0f921\"]], \"type\": \"heatmapgl\"}], \"histogram\": [{\"marker\": {\"colorbar\": {\"outlinewidth\": 0, \"ticks\": \"\"}}, \"type\": \"histogram\"}], \"histogram2d\": [{\"colorbar\": {\"outlinewidth\": 0, \"ticks\": \"\"}, \"colorscale\": [[0.0, \"#0d0887\"], [0.1111111111111111, \"#46039f\"], [0.2222222222222222, \"#7201a8\"], [0.3333333333333333, \"#9c179e\"], [0.4444444444444444, \"#bd3786\"], [0.5555555555555556, \"#d8576b\"], [0.6666666666666666, \"#ed7953\"], [0.7777777777777778, \"#fb9f3a\"], [0.8888888888888888, \"#fdca26\"], [1.0, \"#f0f921\"]], \"type\": \"histogram2d\"}], \"histogram2dcontour\": [{\"colorbar\": {\"outlinewidth\": 0, \"ticks\": \"\"}, \"colorscale\": [[0.0, \"#0d0887\"], [0.1111111111111111, \"#46039f\"], [0.2222222222222222, \"#7201a8\"], [0.3333333333333333, \"#9c179e\"], [0.4444444444444444, \"#bd3786\"], [0.5555555555555556, \"#d8576b\"], [0.6666666666666666, \"#ed7953\"], [0.7777777777777778, \"#fb9f3a\"], [0.8888888888888888, \"#fdca26\"], [1.0, \"#f0f921\"]], \"type\": \"histogram2dcontour\"}], \"mesh3d\": [{\"colorbar\": {\"outlinewidth\": 0, \"ticks\": \"\"}, \"type\": \"mesh3d\"}], \"parcoords\": [{\"line\": {\"colorbar\": {\"outlinewidth\": 0, \"ticks\": \"\"}}, \"type\": \"parcoords\"}], \"pie\": [{\"automargin\": true, \"type\": \"pie\"}], \"scatter\": [{\"marker\": {\"colorbar\": {\"outlinewidth\": 0, \"ticks\": \"\"}}, \"type\": \"scatter\"}], \"scatter3d\": [{\"line\": {\"colorbar\": {\"outlinewidth\": 0, \"ticks\": \"\"}}, \"marker\": {\"colorbar\": {\"outlinewidth\": 0, \"ticks\": \"\"}}, \"type\": \"scatter3d\"}], \"scattercarpet\": [{\"marker\": {\"colorbar\": {\"outlinewidth\": 0, \"ticks\": \"\"}}, \"type\": \"scattercarpet\"}], \"scattergeo\": [{\"marker\": {\"colorbar\": {\"outlinewidth\": 0, \"ticks\": \"\"}}, \"type\": \"scattergeo\"}], \"scattergl\": [{\"marker\": {\"colorbar\": {\"outlinewidth\": 0, \"ticks\": \"\"}}, \"type\": \"scattergl\"}], \"scattermapbox\": [{\"marker\": {\"colorbar\": {\"outlinewidth\": 0, \"ticks\": \"\"}}, \"type\": \"scattermapbox\"}], \"scatterpolar\": [{\"marker\": {\"colorbar\": {\"outlinewidth\": 0, \"ticks\": \"\"}}, \"type\": \"scatterpolar\"}], \"scatterpolargl\": [{\"marker\": {\"colorbar\": {\"outlinewidth\": 0, \"ticks\": \"\"}}, \"type\": \"scatterpolargl\"}], \"scatterternary\": [{\"marker\": {\"colorbar\": {\"outlinewidth\": 0, \"ticks\": \"\"}}, \"type\": \"scatterternary\"}], \"surface\": [{\"colorbar\": {\"outlinewidth\": 0, \"ticks\": \"\"}, \"colorscale\": [[0.0, \"#0d0887\"], [0.1111111111111111, \"#46039f\"], [0.2222222222222222, \"#7201a8\"], [0.3333333333333333, \"#9c179e\"], [0.4444444444444444, \"#bd3786\"], [0.5555555555555556, \"#d8576b\"], [0.6666666666666666, \"#ed7953\"], [0.7777777777777778, \"#fb9f3a\"], [0.8888888888888888, \"#fdca26\"], [1.0, \"#f0f921\"]], \"type\": \"surface\"}], \"table\": [{\"cells\": {\"fill\": {\"color\": \"#EBF0F8\"}, \"line\": {\"color\": \"white\"}}, \"header\": {\"fill\": {\"color\": \"#C8D4E3\"}, \"line\": {\"color\": \"white\"}}, \"type\": \"table\"}]}, \"layout\": {\"annotationdefaults\": {\"arrowcolor\": \"#2a3f5f\", \"arrowhead\": 0, \"arrowwidth\": 1}, \"coloraxis\": {\"colorbar\": {\"outlinewidth\": 0, \"ticks\": \"\"}}, \"colorscale\": {\"diverging\": [[0, \"#8e0152\"], [0.1, \"#c51b7d\"], [0.2, \"#de77ae\"], [0.3, \"#f1b6da\"], [0.4, \"#fde0ef\"], [0.5, \"#f7f7f7\"], [0.6, \"#e6f5d0\"], [0.7, \"#b8e186\"], [0.8, \"#7fbc41\"], [0.9, \"#4d9221\"], [1, \"#276419\"]], \"sequential\": [[0.0, \"#0d0887\"], [0.1111111111111111, \"#46039f\"], [0.2222222222222222, \"#7201a8\"], [0.3333333333333333, \"#9c179e\"], [0.4444444444444444, \"#bd3786\"], [0.5555555555555556, \"#d8576b\"], [0.6666666666666666, \"#ed7953\"], [0.7777777777777778, \"#fb9f3a\"], [0.8888888888888888, \"#fdca26\"], [1.0, \"#f0f921\"]], \"sequentialminus\": [[0.0, \"#0d0887\"], [0.1111111111111111, \"#46039f\"], [0.2222222222222222, \"#7201a8\"], [0.3333333333333333, \"#9c179e\"], [0.4444444444444444, \"#bd3786\"], [0.5555555555555556, \"#d8576b\"], [0.6666666666666666, \"#ed7953\"], [0.7777777777777778, \"#fb9f3a\"], [0.8888888888888888, \"#fdca26\"], [1.0, \"#f0f921\"]]}, \"colorway\": [\"#636efa\", \"#EF553B\", \"#00cc96\", \"#ab63fa\", \"#FFA15A\", \"#19d3f3\", \"#FF6692\", \"#B6E880\", \"#FF97FF\", \"#FECB52\"], \"font\": {\"color\": \"#2a3f5f\"}, \"geo\": {\"bgcolor\": \"white\", \"lakecolor\": \"white\", \"landcolor\": \"#E5ECF6\", \"showlakes\": true, \"showland\": true, \"subunitcolor\": \"white\"}, \"hoverlabel\": {\"align\": \"left\"}, \"hovermode\": \"closest\", \"mapbox\": {\"style\": \"light\"}, \"paper_bgcolor\": \"white\", \"plot_bgcolor\": \"#E5ECF6\", \"polar\": {\"angularaxis\": {\"gridcolor\": \"white\", \"linecolor\": \"white\", \"ticks\": \"\"}, \"bgcolor\": \"#E5ECF6\", \"radialaxis\": {\"gridcolor\": \"white\", \"linecolor\": \"white\", \"ticks\": \"\"}}, \"scene\": {\"xaxis\": {\"backgroundcolor\": \"#E5ECF6\", \"gridcolor\": \"white\", \"gridwidth\": 2, \"linecolor\": \"white\", \"showbackground\": true, \"ticks\": \"\", \"zerolinecolor\": \"white\"}, \"yaxis\": {\"backgroundcolor\": \"#E5ECF6\", \"gridcolor\": \"white\", \"gridwidth\": 2, \"linecolor\": \"white\", \"showbackground\": true, \"ticks\": \"\", \"zerolinecolor\": \"white\"}, \"zaxis\": {\"backgroundcolor\": \"#E5ECF6\", \"gridcolor\": \"white\", \"gridwidth\": 2, \"linecolor\": \"white\", \"showbackground\": true, \"ticks\": \"\", \"zerolinecolor\": \"white\"}}, \"shapedefaults\": {\"line\": {\"color\": \"#2a3f5f\"}}, \"ternary\": {\"aaxis\": {\"gridcolor\": \"white\", \"linecolor\": \"white\", \"ticks\": \"\"}, \"baxis\": {\"gridcolor\": \"white\", \"linecolor\": \"white\", \"ticks\": \"\"}, \"bgcolor\": \"#E5ECF6\", \"caxis\": {\"gridcolor\": \"white\", \"linecolor\": \"white\", \"ticks\": \"\"}}, \"title\": {\"x\": 0.05}, \"xaxis\": {\"automargin\": true, \"gridcolor\": \"white\", \"linecolor\": \"white\", \"ticks\": \"\", \"title\": {\"standoff\": 15}, \"zerolinecolor\": \"white\", \"zerolinewidth\": 2}, \"yaxis\": {\"automargin\": true, \"gridcolor\": \"white\", \"linecolor\": \"white\", \"ticks\": \"\", \"title\": {\"standoff\": 15}, \"zerolinecolor\": \"white\", \"zerolinewidth\": 2}}}, \"title\": {\"text\": \"Color ad by area\"}},\n",
       "                        {\"responsive\": true}\n",
       "                    ).then(function(){\n",
       "                            \n",
       "var gd = document.getElementById('5465500b-ea5d-497a-81f4-41c188cdb59d');\n",
       "var x = new MutationObserver(function (mutations, observer) {{\n",
       "        var display = window.getComputedStyle(gd).display;\n",
       "        if (!display || display === 'none') {{\n",
       "            console.log([gd, 'removed!']);\n",
       "            Plotly.purge(gd);\n",
       "            observer.disconnect();\n",
       "        }}\n",
       "}});\n",
       "\n",
       "// Listen for the removal of the full notebook cells\n",
       "var notebookContainer = gd.closest('#notebook-container');\n",
       "if (notebookContainer) {{\n",
       "    x.observe(notebookContainer, {childList: true});\n",
       "}}\n",
       "\n",
       "// Listen for the clearing of the current output cell\n",
       "var outputEl = gd.closest('.output');\n",
       "if (outputEl) {{\n",
       "    x.observe(outputEl, {childList: true});\n",
       "}}\n",
       "\n",
       "                        })\n",
       "                };\n",
       "                });\n",
       "            </script>\n",
       "        </div>"
      ]
     },
     "metadata": {},
     "output_type": "display_data"
    }
   ],
   "source": [
    "# ---------------------------\n",
    "# Plot Color ad per municipality\n",
    "# ---------------------------\n",
    "\n",
    "df_group_locality = df_idealista[df_idealista.address_simple.notnull()].groupby('address_simple')\n",
    "\n",
    "data = []\n",
    "for name, group in df_group_locality:\n",
    "    subplot_id = \"mapbox\" + name\n",
    "    trace = go.Scattermapbox(\n",
    "        name=name,\n",
    "        showlegend=True,\n",
    "        lat=[ g[-1]['latitude'] for g in df_idealista[df_idealista.address_simple == name].geo],\n",
    "        lon=[ g[-1]['longitude'] for g in df_idealista[df_idealista.address_simple == name].geo],\n",
    "        mode=\"markers\",\n",
    "        marker=dict(size=14),\n",
    "        text=name,\n",
    "        subplot=\"mapbox\",\n",
    "    )\n",
    "    # fig.add_trace(trace)\n",
    "    data.append(trace)\n",
    "\n",
    "layout = go.Layout(\n",
    "    autosize=True,\n",
    "    height=700,\n",
    "    title=\"Color ad by area\",\n",
    "    # grid={\"rows\": rows, \"columns\": cols, \"xgap\": 0.1, \"ygap\": 0.2},\n",
    ")\n",
    "\n",
    "\n",
    "map_center = go.layout.mapbox.Center(\n",
    "    #lat=df_idealista[\"latitude\"].mean(), lon=df_idealista[\"longitude\"].mean()\n",
    "    lat=df_idealista.iloc[1].geo[-1]['latitude'], lon=df_idealista.iloc[1].geo[-1]['longitude']\n",
    ")\n",
    "layout[\"mapbox\"] = dict(style=\"carto-positron\", center=map_center, zoom=11,)\n",
    "\n",
    "fig = go.Figure(data=data, layout=layout)\n",
    "fig"
   ]
  }
 ],
 "metadata": {
  "kernelspec": {
   "display_name": "Python 3",
   "language": "python",
   "name": "python3"
  },
  "language_info": {
   "codemirror_mode": {
    "name": "ipython",
    "version": 3
   },
   "file_extension": ".py",
   "mimetype": "text/x-python",
   "name": "python",
   "nbconvert_exporter": "python",
   "pygments_lexer": "ipython3",
   "version": "3.7.7"
  }
 },
 "nbformat": 4,
 "nbformat_minor": 4
}
