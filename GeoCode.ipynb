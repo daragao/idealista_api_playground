{
 "cells": [
  {
   "cell_type": "code",
   "execution_count": 158,
   "metadata": {},
   "outputs": [],
   "source": [
    "import requests\n",
    "import json\n",
    "import urllib\n",
    "from os import listdir\n",
    "from os.path import isfile, join\n",
    "from datetime import datetime\n",
    "import time"
   ]
  },
  {
   "cell_type": "code",
   "execution_count": 163,
   "metadata": {},
   "outputs": [
    {
     "name": "stdout",
     "output_type": "stream",
     "text": [
      "Loaded secret json:\n",
      "\tpositionstack: {'key': '81b633155ad885d61fbd4123bae2e096'}\n"
     ]
    }
   ],
   "source": [
    "with open(\"secret.json\") as json_file:\n",
    "    secret = json.load(json_file)\n",
    "print('Loaded secret json:\\n\\tpositionstack: {}'.format(secret['positionstack']))"
   ]
  },
  {
   "cell_type": "code",
   "execution_count": 7,
   "metadata": {},
   "outputs": [],
   "source": [
    "time_format = \"%d-%m-%Y_%H:%M:%S\"\n",
    "data_path = \"./data_scrap\""
   ]
  },
  {
   "cell_type": "code",
   "execution_count": 14,
   "metadata": {},
   "outputs": [
    {
     "name": "stdout",
     "output_type": "stream",
     "text": [
      "Total files: 1\n"
     ]
    }
   ],
   "source": [
    "onlyfiles = [f for f in listdir(data_path) if isfile(join(data_path, f))]\n",
    "data_files = {}\n",
    "for f in onlyfiles:\n",
    "    datetime_object = datetime.strptime(f, time_format + \"_scrap.json\")\n",
    "    data_files[datetime_object] = data_path + \"/\" + f\n",
    "print('Total files: {}'.format(len(data_files)))"
   ]
  },
  {
   "cell_type": "code",
   "execution_count": 17,
   "metadata": {},
   "outputs": [
    {
     "name": "stdout",
     "output_type": "stream",
     "text": [
      "Ads found: 127\n"
     ]
    }
   ],
   "source": [
    "json_data = []\n",
    "for f in data_files.values():\n",
    "    with open(f) as json_file:\n",
    "        json_data = json_data + json.load(json_file)\n",
    "print('Ads found: {}'.format(len(json_data)))"
   ]
  },
  {
   "cell_type": "code",
   "execution_count": 26,
   "metadata": {},
   "outputs": [
    {
     "name": "stdout",
     "output_type": "stream",
     "text": [
      "Arneiros - Avenida Uruguai - Charquinho, Benfica\n"
     ]
    }
   ],
   "source": [
    "print(urllib.parse.unquote(address))"
   ]
  },
  {
   "cell_type": "code",
   "execution_count": null,
   "metadata": {
    "scrolled": false
   },
   "outputs": [
    {
     "name": "stdout",
     "output_type": "stream",
     "text": [
      "0) --------------\n",
      "\tQuery address: Arneiros - Avenida Uruguai - Charquinho, Benfica\n",
      "\tURL: http://api.positionstack.com/v1/forward?access_key=81b633155ad885d61fbd4123bae2e096&query=Arneiros%20-%20Avenida%20Uruguai%20-%20Charquinho%2C%20Benfica&country=PT&region=Lisboa\n",
      "\tHTTP CODE: 200\n",
      "1) --------------\n",
      "\tQuery address: Areeiro, Lisboa\n",
      "\tURL: http://api.positionstack.com/v1/forward?access_key=81b633155ad885d61fbd4123bae2e096&query=Areeiro%2C%20Lisboa&country=PT&region=Lisboa\n",
      "\tHTTP CODE: 200\n",
      "2) --------------\n",
      "\tQuery address: Alcântara, Lisboa\n",
      "\tURL: http://api.positionstack.com/v1/forward?access_key=81b633155ad885d61fbd4123bae2e096&query=Alc%C3%A2ntara%2C%20Lisboa&country=PT&region=Lisboa\n",
      "\tHTTP CODE: 200\n",
      "3) --------------\n",
      "\tQuery address: Lapa, Estrela\n",
      "\tURL: http://api.positionstack.com/v1/forward?access_key=81b633155ad885d61fbd4123bae2e096&query=Lapa%2C%20Estrela&country=PT&region=Lisboa\n",
      "\tHTTP CODE: 200\n",
      "4) --------------\n",
      "\tQuery address: Parque das Nações, Lisboa\n",
      "\tURL: http://api.positionstack.com/v1/forward?access_key=81b633155ad885d61fbd4123bae2e096&query=Parque%20das%20Na%C3%A7%C3%B5es%2C%20Lisboa&country=PT&region=Lisboa\n",
      "\tHTTP CODE: 200\n",
      "5) --------------\n",
      "\tQuery address: avenida Estados Unidos da América, Campo Grande, Alvalade\n",
      "\tURL: http://api.positionstack.com/v1/forward?access_key=81b633155ad885d61fbd4123bae2e096&query=avenida%20Estados%20Unidos%20da%20Am%C3%A9rica%2C%20Campo%20Grande%2C%20Alvalade&country=PT&region=Lisboa\n",
      "\tHTTP CODE: 200\n",
      "6) --------------\n",
      "\tQuery address: rua Joaquim Casimiro, NN, Prazeres, Estrela\n",
      "\tURL: http://api.positionstack.com/v1/forward?access_key=81b633155ad885d61fbd4123bae2e096&query=rua%20Joaquim%20Casimiro%2C%20NN%2C%20Prazeres%2C%20Estrela&country=PT&region=Lisboa\n",
      "\tHTTP CODE: 200\n",
      "7) --------------\n",
      "\tQuery address: rua Cândido Figueiredo, NN, São Domingos de Benfica, Lisboa\n",
      "\tURL: http://api.positionstack.com/v1/forward?access_key=81b633155ad885d61fbd4123bae2e096&query=rua%20C%C3%A2ndido%20Figueiredo%2C%20NN%2C%20S%C3%A3o%20Domingos%20de%20Benfica%2C%20Lisboa&country=PT&region=Lisboa\n",
      "\tHTTP CODE: 200\n",
      "8) --------------\n",
      "\tQuery address: São Mamede, Santo António\n",
      "\tURL: http://api.positionstack.com/v1/forward?access_key=81b633155ad885d61fbd4123bae2e096&query=S%C3%A3o%20Mamede%2C%20Santo%20Ant%C3%B3nio&country=PT&region=Lisboa\n",
      "\tHTTP CODE: 200\n",
      "9) --------------\n",
      "\tQuery address: Santa Engrácia, São Vicente\n",
      "\tURL: http://api.positionstack.com/v1/forward?access_key=81b633155ad885d61fbd4123bae2e096&query=Santa%20Engr%C3%A1cia%2C%20S%C3%A3o%20Vicente&country=PT&region=Lisboa\n",
      "\tHTTP CODE: 200\n",
      "10 requests made (sleeping...)\n",
      "10) --------------\n",
      "\tQuery address: Parque das Nações, Lisboa\n",
      "\tURL: http://api.positionstack.com/v1/forward?access_key=81b633155ad885d61fbd4123bae2e096&query=Parque%20das%20Na%C3%A7%C3%B5es%2C%20Lisboa&country=PT&region=Lisboa\n",
      "\tHTTP CODE: 200\n"
     ]
    }
   ],
   "source": [
    "\n",
    "key = secret['positionstack']['key']\n",
    "\n",
    "country = \"PT\"\n",
    "region = \"Lisboa\"\n",
    "\n",
    "for i, ad in enumerate(json_data):\n",
    "    print('{}) --------------'.format(i))\n",
    "    address = ad['address']\n",
    "    url = 'http://api.positionstack.com/v1/forward?access_key={}&query={}&country={}&region={}'.format(key,address,country,region)\n",
    "    print('\\tQuery address: {}\\n\\tURL: {}'.format(urllib.parse.unquote(address),url))\n",
    "    req = requests.get(url)\n",
    "    print('\\tHTTP CODE: {}'.format(req.status_code))\n",
    "    if(req.status_code != 200):\n",
    "        print(\"!!!!!!BAD STATUS CODE!!!!!\")\n",
    "    geo_data = req.json()\n",
    "    ad['geo'] = geo_data['data']\n",
    "    if(len(ad['geo']) != 0 and len(ad['geo'][0]) == 0):\n",
    "        print('FAILED!!!!!\\n\\t{}'.format(geo_data))\n",
    "    i += 1\n",
    "    time.sleep(2) #some requests come empty maybe I am breaking the rate limit\n",
    "    if((i % 10) == 0):\n",
    "        print('{} requests made (sleeping...)'.format(i))\n",
    "        \n"
   ]
  },
  {
   "cell_type": "code",
   "execution_count": 161,
   "metadata": {
    "scrolled": true
   },
   "outputs": [
    {
     "name": "stdout",
     "output_type": "stream",
     "text": [
      "36 ----------------------\n",
      "rua Carvalho Araújo, Alameda - Praça do Chile - Almirante Reis, São Jorge de Arroios, Arroios\n",
      "36 ----------------------\n",
      "rua Carvalho Araújo, Alameda - Praça do Chile - Almirante Reis, São Jorge de Arroios, Arroios\n",
      "36 ----------------------\n",
      "rua Carvalho Araújo, Alameda - Praça do Chile - Almirante Reis, São Jorge de Arroios, Arroios\n",
      "36 ----------------------\n",
      "rua Carvalho Araújo, Alameda - Praça do Chile - Almirante Reis, São Jorge de Arroios, Arroios\n",
      "36 ----------------------\n",
      "rua Carvalho Araújo, Alameda - Praça do Chile - Almirante Reis, São Jorge de Arroios, Arroios\n",
      "36 ----------------------\n",
      "rua Carvalho Araújo, Alameda - Praça do Chile - Almirante Reis, São Jorge de Arroios, Arroios\n",
      "36 ----------------------\n",
      "rua Carvalho Araújo, Alameda - Praça do Chile - Almirante Reis, São Jorge de Arroios, Arroios\n",
      "36 ----------------------\n",
      "rua Carvalho Araújo, Alameda - Praça do Chile - Almirante Reis, São Jorge de Arroios, Arroios\n",
      "36 ----------------------\n",
      "rua Carvalho Araújo, Alameda - Praça do Chile - Almirante Reis, São Jorge de Arroios, Arroios\n",
      "36 ----------------------\n",
      "rua Carvalho Araújo, Alameda - Praça do Chile - Almirante Reis, São Jorge de Arroios, Arroios\n"
     ]
    }
   ],
   "source": [
    "for i,ad in enumerate(json_data):\n",
    "    #print('{} ----------------------\\n{}'.format(i, urllib.parse.unquote(ad['address'])))\n",
    "    for d in ad['geo']:\n",
    "        if(len(d) == 0):\n",
    "            print('{} ----------------------\\n{}'.format(i, urllib.parse.unquote(ad['address'])))\n",
    "            continue\n",
    "        #print('{:<30} - {:<20}'.format(d['name'], d['label']))"
   ]
  },
  {
   "cell_type": "code",
   "execution_count": 153,
   "metadata": {},
   "outputs": [
    {
     "data": {
      "text/plain": [
       "[[], [], [], [], [], [], [], [], [], []]"
      ]
     },
     "execution_count": 153,
     "metadata": {},
     "output_type": "execute_result"
    }
   ],
   "source": [
    "json_data[31]['geo']"
   ]
  }
 ],
 "metadata": {
  "kernelspec": {
   "display_name": "Python 3",
   "language": "python",
   "name": "python3"
  },
  "language_info": {
   "codemirror_mode": {
    "name": "ipython",
    "version": 3
   },
   "file_extension": ".py",
   "mimetype": "text/x-python",
   "name": "python",
   "nbconvert_exporter": "python",
   "pygments_lexer": "ipython3",
   "version": "3.7.7"
  }
 },
 "nbformat": 4,
 "nbformat_minor": 4
}
